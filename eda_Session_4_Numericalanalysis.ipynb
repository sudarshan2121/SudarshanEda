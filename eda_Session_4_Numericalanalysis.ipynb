{
 "cells": [
  {
   "cell_type": "code",
   "execution_count": 1,
   "id": "8c6b148b-6bc8-4ae0-a7df-bc52f476f4d3",
   "metadata": {},
   "outputs": [],
   "source": [
    "import pandas as pd\n",
    "import numpy as np\n",
    "import matplotlib.pyplot as plt\n",
    "import seaborn as sns"
   ]
  },
  {
   "cell_type": "code",
   "execution_count": 2,
   "id": "1b329de9-ae62-45e5-91ac-e570f26b3b5b",
   "metadata": {},
   "outputs": [
    {
     "data": {
      "text/html": [
       "<div>\n",
       "<style scoped>\n",
       "    .dataframe tbody tr th:only-of-type {\n",
       "        vertical-align: middle;\n",
       "    }\n",
       "\n",
       "    .dataframe tbody tr th {\n",
       "        vertical-align: top;\n",
       "    }\n",
       "\n",
       "    .dataframe thead th {\n",
       "        text-align: right;\n",
       "    }\n",
       "</style>\n",
       "<table border=\"1\" class=\"dataframe\">\n",
       "  <thead>\n",
       "    <tr style=\"text-align: right;\">\n",
       "      <th></th>\n",
       "      <th>case_id</th>\n",
       "      <th>continent</th>\n",
       "      <th>education_of_employee</th>\n",
       "      <th>has_job_experience</th>\n",
       "      <th>requires_job_training</th>\n",
       "      <th>no_of_employees</th>\n",
       "      <th>yr_of_estab</th>\n",
       "      <th>region_of_employment</th>\n",
       "      <th>prevailing_wage</th>\n",
       "      <th>unit_of_wage</th>\n",
       "      <th>full_time_position</th>\n",
       "      <th>case_status</th>\n",
       "    </tr>\n",
       "  </thead>\n",
       "  <tbody>\n",
       "    <tr>\n",
       "      <th>0</th>\n",
       "      <td>EZYV01</td>\n",
       "      <td>Asia</td>\n",
       "      <td>High School</td>\n",
       "      <td>N</td>\n",
       "      <td>N</td>\n",
       "      <td>14513</td>\n",
       "      <td>2007</td>\n",
       "      <td>West</td>\n",
       "      <td>592.2029</td>\n",
       "      <td>Hour</td>\n",
       "      <td>Y</td>\n",
       "      <td>Denied</td>\n",
       "    </tr>\n",
       "    <tr>\n",
       "      <th>1</th>\n",
       "      <td>EZYV02</td>\n",
       "      <td>Asia</td>\n",
       "      <td>Master's</td>\n",
       "      <td>Y</td>\n",
       "      <td>N</td>\n",
       "      <td>2412</td>\n",
       "      <td>2002</td>\n",
       "      <td>Northeast</td>\n",
       "      <td>83425.6500</td>\n",
       "      <td>Year</td>\n",
       "      <td>Y</td>\n",
       "      <td>Certified</td>\n",
       "    </tr>\n",
       "  </tbody>\n",
       "</table>\n",
       "</div>"
      ],
      "text/plain": [
       "  case_id continent education_of_employee has_job_experience  \\\n",
       "0  EZYV01      Asia           High School                  N   \n",
       "1  EZYV02      Asia              Master's                  Y   \n",
       "\n",
       "  requires_job_training  no_of_employees  yr_of_estab region_of_employment  \\\n",
       "0                     N            14513         2007                 West   \n",
       "1                     N             2412         2002            Northeast   \n",
       "\n",
       "   prevailing_wage unit_of_wage full_time_position case_status  \n",
       "0         592.2029         Hour                  Y      Denied  \n",
       "1       83425.6500         Year                  Y   Certified  "
      ]
     },
     "execution_count": 2,
     "metadata": {},
     "output_type": "execute_result"
    }
   ],
   "source": [
    "visa_df=pd.read_csv('Visadataset.csv')\n",
    "visa_df.head(2)"
   ]
  },
  {
   "cell_type": "code",
   "execution_count": 3,
   "id": "5f3f1f64-6825-4446-9a46-abbf3bc0b335",
   "metadata": {},
   "outputs": [
    {
     "data": {
      "text/plain": [
       "Index(['no_of_employees', 'yr_of_estab', 'prevailing_wage'], dtype='object')"
      ]
     },
     "execution_count": 3,
     "metadata": {},
     "output_type": "execute_result"
    }
   ],
   "source": [
    "visa_df.select_dtypes(exclude='object').columns"
   ]
  },
  {
   "cell_type": "markdown",
   "id": "e4c16e10-0928-40fe-9e61-cf42ab931f28",
   "metadata": {},
   "source": [
    "**prevailing_wage**"
   ]
  },
  {
   "cell_type": "markdown",
   "id": "afbe8ee3-580e-4404-910a-6cb2476bc112",
   "metadata": {},
   "source": [
    "- len\n",
    "- max\n",
    "- min\n",
    "- mean\n",
    "- median\n",
    "- std\n",
    "- 75%\n",
    "- 50%\n",
    "- 25%"
   ]
  },
  {
   "cell_type": "code",
   "execution_count": 4,
   "id": "e3dd9d50-ff38-4f24-af0c-6b3a61c3f422",
   "metadata": {},
   "outputs": [
    {
     "data": {
      "text/plain": [
       "0           592.2029\n",
       "1         83425.6500\n",
       "2        122996.8600\n",
       "3         83434.0300\n",
       "4        149907.3900\n",
       "            ...     \n",
       "25475     77092.5700\n",
       "25476    279174.7900\n",
       "25477    146298.8500\n",
       "25478     86154.7700\n",
       "25479     70876.9100\n",
       "Name: prevailing_wage, Length: 25480, dtype: float64"
      ]
     },
     "execution_count": 4,
     "metadata": {},
     "output_type": "execute_result"
    }
   ],
   "source": [
    "visa_df['prevailing_wage']"
   ]
  },
  {
   "cell_type": "code",
   "execution_count": 5,
   "id": "dba90a0a-6951-4c6a-a477-ee1e2ec79b09",
   "metadata": {},
   "outputs": [
    {
     "data": {
      "text/plain": [
       "25480"
      ]
     },
     "execution_count": 5,
     "metadata": {},
     "output_type": "execute_result"
    }
   ],
   "source": [
    "len(visa_df['prevailing_wage'])"
   ]
  },
  {
   "cell_type": "markdown",
   "id": "f4388476-28ee-419e-b878-6a47937ff872",
   "metadata": {},
   "source": [
    "**max**"
   ]
  },
  {
   "cell_type": "code",
   "execution_count": 6,
   "id": "97c8ce40-11f0-4c75-9add-fb12ab509c6a",
   "metadata": {},
   "outputs": [
    {
     "data": {
      "text/plain": [
       "319210.27"
      ]
     },
     "execution_count": 6,
     "metadata": {},
     "output_type": "execute_result"
    }
   ],
   "source": [
    "max(visa_df['prevailing_wage']) #py"
   ]
  },
  {
   "cell_type": "code",
   "execution_count": 7,
   "id": "472666af-a7f9-44d6-b5cc-2a5a67e01213",
   "metadata": {},
   "outputs": [
    {
     "data": {
      "text/plain": [
       "319210.27"
      ]
     },
     "execution_count": 7,
     "metadata": {},
     "output_type": "execute_result"
    }
   ],
   "source": [
    "visa_df['prevailing_wage'].max() #pd"
   ]
  },
  {
   "cell_type": "code",
   "execution_count": 8,
   "id": "f864d51f-3896-40a9-bcbe-7899556fa709",
   "metadata": {},
   "outputs": [
    {
     "data": {
      "text/plain": [
       "319210.27"
      ]
     },
     "execution_count": 8,
     "metadata": {},
     "output_type": "execute_result"
    }
   ],
   "source": [
    "np.max(visa_df['prevailing_wage']) #np"
   ]
  },
  {
   "cell_type": "markdown",
   "id": "8492a4b9-9b41-489a-9c80-0e55eb64826f",
   "metadata": {},
   "source": [
    "**min**"
   ]
  },
  {
   "cell_type": "code",
   "execution_count": 9,
   "id": "c400fc67-3590-4568-9801-0da374fe95e8",
   "metadata": {},
   "outputs": [
    {
     "data": {
      "text/plain": [
       "2.1367"
      ]
     },
     "execution_count": 9,
     "metadata": {},
     "output_type": "execute_result"
    }
   ],
   "source": [
    "min(visa_df['prevailing_wage'])"
   ]
  },
  {
   "cell_type": "code",
   "execution_count": 10,
   "id": "522be4e7-892c-43b7-9edf-eede1daf4fd7",
   "metadata": {},
   "outputs": [
    {
     "data": {
      "text/plain": [
       "2.1367"
      ]
     },
     "execution_count": 10,
     "metadata": {},
     "output_type": "execute_result"
    }
   ],
   "source": [
    "visa_df['prevailing_wage'].min()"
   ]
  },
  {
   "cell_type": "code",
   "execution_count": 11,
   "id": "6675e54c-d68d-4a72-99df-6b70890f6312",
   "metadata": {},
   "outputs": [
    {
     "data": {
      "text/plain": [
       "2.1367"
      ]
     },
     "execution_count": 11,
     "metadata": {},
     "output_type": "execute_result"
    }
   ],
   "source": [
    "np.min(visa_df['prevailing_wage'])"
   ]
  },
  {
   "cell_type": "markdown",
   "id": "af57091f-b424-4024-a2b8-6b008c070aae",
   "metadata": {},
   "source": [
    "**mean**"
   ]
  },
  {
   "cell_type": "code",
   "execution_count": 12,
   "id": "4621660d-2543-4a23-817a-9b08dec40b77",
   "metadata": {},
   "outputs": [
    {
     "data": {
      "text/plain": [
       "74455.81459209183"
      ]
     },
     "execution_count": 12,
     "metadata": {},
     "output_type": "execute_result"
    }
   ],
   "source": [
    "np.mean(visa_df['prevailing_wage']) #np"
   ]
  },
  {
   "cell_type": "code",
   "execution_count": 13,
   "id": "22adf309-311b-4eff-94ee-688dcb6738fd",
   "metadata": {},
   "outputs": [
    {
     "data": {
      "text/plain": [
       "74455.81459209183"
      ]
     },
     "execution_count": 13,
     "metadata": {},
     "output_type": "execute_result"
    }
   ],
   "source": [
    "visa_df['prevailing_wage'].mean() #pd"
   ]
  },
  {
   "cell_type": "markdown",
   "id": "bf9d4645-47bd-4b12-8c46-4a1473b6c9df",
   "metadata": {},
   "source": [
    "**median**"
   ]
  },
  {
   "cell_type": "code",
   "execution_count": 14,
   "id": "052d1267-2f0c-4b68-b757-049114ef84cf",
   "metadata": {},
   "outputs": [
    {
     "data": {
      "text/plain": [
       "70308.20999999999"
      ]
     },
     "execution_count": 14,
     "metadata": {},
     "output_type": "execute_result"
    }
   ],
   "source": [
    "np.median(visa_df['prevailing_wage']) #np"
   ]
  },
  {
   "cell_type": "code",
   "execution_count": 15,
   "id": "45e0b1e9-e52f-48fb-8208-9e4c352a166f",
   "metadata": {},
   "outputs": [
    {
     "data": {
      "text/plain": [
       "70308.20999999999"
      ]
     },
     "execution_count": 15,
     "metadata": {},
     "output_type": "execute_result"
    }
   ],
   "source": [
    "visa_df['prevailing_wage'].median() #pd"
   ]
  },
  {
   "cell_type": "markdown",
   "id": "c79b25e6-4de9-498d-90e6-3c49f0e15a3b",
   "metadata": {},
   "source": [
    "\n",
    "**sd**"
   ]
  },
  {
   "cell_type": "code",
   "execution_count": 16,
   "id": "11f18826-7c4b-445c-9393-868af0bafe0f",
   "metadata": {},
   "outputs": [
    {
     "data": {
      "text/plain": [
       "52814.90589711402"
      ]
     },
     "execution_count": 16,
     "metadata": {},
     "output_type": "execute_result"
    }
   ],
   "source": [
    "np.std(visa_df['prevailing_wage'])"
   ]
  },
  {
   "cell_type": "code",
   "execution_count": 17,
   "id": "92d35915-628c-49c8-956b-bac34445b4b9",
   "metadata": {},
   "outputs": [
    {
     "data": {
      "text/plain": [
       "52815.94232687357"
      ]
     },
     "execution_count": 17,
     "metadata": {},
     "output_type": "execute_result"
    }
   ],
   "source": [
    "visa_df['prevailing_wage'].std()"
   ]
  },
  {
   "cell_type": "markdown",
   "id": "ee139d71-9f53-4e2f-a423-437ac7fb61ce",
   "metadata": {},
   "source": [
    "**Mode is not a good option because it is a numirical option**"
   ]
  },
  {
   "cell_type": "code",
   "execution_count": 18,
   "id": "fca30ac6-4731-43af-ab23-2a7babcdccea",
   "metadata": {},
   "outputs": [],
   "source": [
    "##All together"
   ]
  },
  {
   "cell_type": "code",
   "execution_count": 20,
   "id": "93eb2712-0784-4ea0-acfa-379bc08899aa",
   "metadata": {},
   "outputs": [],
   "source": [
    "wage_len=round(len(visa_df['prevailing_wage']),2)\n",
    "wage_min=round(visa_df['prevailing_wage'].min(),2)\n",
    "wage_max=round(visa_df['prevailing_wage'].max(),2) #pd\n",
    "wage_mean=round(visa_df['prevailing_wage'].mean(),2) #pd\n",
    "wage_meadian=round(visa_df['prevailing_wage'].median(),2) #pd\n",
    "wage_std=round(visa_df['prevailing_wage'].std(),2)"
   ]
  },
  {
   "cell_type": "code",
   "execution_count": 21,
   "id": "0c1af411-9da8-46da-bdfd-2884f6ef23cd",
   "metadata": {},
   "outputs": [],
   "source": [
    "#df"
   ]
  },
  {
   "cell_type": "code",
   "execution_count": null,
   "id": "01e5a598-75a1-489c-b299-c866582d9d3f",
   "metadata": {},
   "outputs": [],
   "source": []
  },
  {
   "cell_type": "code",
   "execution_count": 23,
   "id": "729f858a-5444-41f4-bf70-fd83ab9f02b2",
   "metadata": {
    "scrolled": true
   },
   "outputs": [
    {
     "data": {
      "text/plain": [
       "[25480, 2.14, 319210.27, 74455.81, 70308.21, 52815.94]"
      ]
     },
     "execution_count": 23,
     "metadata": {},
     "output_type": "execute_result"
    }
   ],
   "source": [
    "l=[]\n",
    "l.append(wage_len)\n",
    "l.append(wage_min)\n",
    "l.append(wage_max)\n",
    "l.append(wage_mean)\n",
    "l.append(wage_meadian)\n",
    "l.append(wage_std)\n",
    "l\n",
    "#or\n",
    "#list_values"
   ]
  },
  {
   "cell_type": "code",
   "execution_count": 24,
   "id": "664307a7-311d-408e-ad54-b7effb2eafa7",
   "metadata": {},
   "outputs": [],
   "source": [
    "index_val=['len','min','max','mean','median','std']"
   ]
  },
  {
   "cell_type": "code",
   "execution_count": 25,
   "id": "04ed210f-dcf2-4265-92a6-d14c3ea3c564",
   "metadata": {},
   "outputs": [],
   "source": [
    "df=pd.DataFrame(l,index_val,columns=['prevailing_wage'])"
   ]
  },
  {
   "cell_type": "code",
   "execution_count": 26,
   "id": "2854d861-4034-4d0b-9f6e-004d3077f781",
   "metadata": {},
   "outputs": [
    {
     "data": {
      "text/html": [
       "<div>\n",
       "<style scoped>\n",
       "    .dataframe tbody tr th:only-of-type {\n",
       "        vertical-align: middle;\n",
       "    }\n",
       "\n",
       "    .dataframe tbody tr th {\n",
       "        vertical-align: top;\n",
       "    }\n",
       "\n",
       "    .dataframe thead th {\n",
       "        text-align: right;\n",
       "    }\n",
       "</style>\n",
       "<table border=\"1\" class=\"dataframe\">\n",
       "  <thead>\n",
       "    <tr style=\"text-align: right;\">\n",
       "      <th></th>\n",
       "      <th>prevailing_wage</th>\n",
       "    </tr>\n",
       "  </thead>\n",
       "  <tbody>\n",
       "    <tr>\n",
       "      <th>len</th>\n",
       "      <td>25480.00</td>\n",
       "    </tr>\n",
       "    <tr>\n",
       "      <th>min</th>\n",
       "      <td>2.14</td>\n",
       "    </tr>\n",
       "    <tr>\n",
       "      <th>max</th>\n",
       "      <td>319210.27</td>\n",
       "    </tr>\n",
       "    <tr>\n",
       "      <th>mean</th>\n",
       "      <td>74455.81</td>\n",
       "    </tr>\n",
       "    <tr>\n",
       "      <th>median</th>\n",
       "      <td>70308.21</td>\n",
       "    </tr>\n",
       "    <tr>\n",
       "      <th>std</th>\n",
       "      <td>52815.94</td>\n",
       "    </tr>\n",
       "  </tbody>\n",
       "</table>\n",
       "</div>"
      ],
      "text/plain": [
       "        prevailing_wage\n",
       "len            25480.00\n",
       "min                2.14\n",
       "max           319210.27\n",
       "mean           74455.81\n",
       "median         70308.21\n",
       "std            52815.94"
      ]
     },
     "execution_count": 26,
     "metadata": {},
     "output_type": "execute_result"
    }
   ],
   "source": [
    "df"
   ]
  },
  {
   "cell_type": "markdown",
   "id": "c62670d9-5804-414a-a1ec-761ffb7fd3cd",
   "metadata": {},
   "source": [
    "**percentile and Quantile**\n",
    "- percentile\n",
    "    - np.percentile()\n",
    "    - It will take two argument\n",
    "      - data: a\n",
    "      - percentile: q the values varies from 0 to 100\n",
    "      - if you want **50P** data then you need to provide q=50 \n",
    "\n",
    "- Quantile\n",
    "    - np.percentile()\n",
    "    - It will take two argument\n",
    "      - data: a\n",
    "      - Quantile: q the values varies from 0 to 1\n",
    "      - if you want **50P** data then you need to provide q=0.5\n",
    "      "
   ]
  },
  {
   "cell_type": "code",
   "execution_count": 27,
   "id": "b0165efc-1c01-44af-b04b-e6e417623320",
   "metadata": {},
   "outputs": [
    {
     "name": "stdout",
     "output_type": "stream",
     "text": [
      "The 25% data is: 34015.48\n",
      "The 50% data is: 70308.21\n",
      "The 75% data is: 107735.51\n"
     ]
    }
   ],
   "source": [
    "#Percentile\n",
    "wage_25=round(np.percentile(visa_df['prevailing_wage'],25),2)\n",
    "wage_50=round(np.percentile(visa_df['prevailing_wage'],50),2)\n",
    "wage_75=round(np.percentile(visa_df['prevailing_wage'],75),2)\n",
    "print(f'The 25% data is: {wage_25}')\n",
    "print(f'The 50% data is: {wage_50}')\n",
    "print(f'The 75% data is: {wage_75}')"
   ]
  },
  {
   "cell_type": "code",
   "execution_count": 29,
   "id": "31607105-7e1a-4b71-8ee0-8a14ee6a715d",
   "metadata": {},
   "outputs": [
    {
     "name": "stdout",
     "output_type": "stream",
     "text": [
      "The 25% data is: 34015.48\n",
      "The 50% data is: 70308.21\n",
      "The 75% data is: 107735.51\n"
     ]
    }
   ],
   "source": [
    "#Quantile\n",
    "wage_25=round(np.quantile(visa_df['prevailing_wage'],0.25),2)\n",
    "wage_50=round(np.quantile(visa_df['prevailing_wage'],0.50),2)\n",
    "wage_75=round(np.quantile(visa_df['prevailing_wage'],0.75),2)\n",
    "print(f'The 25% data is: {wage_25}')\n",
    "print(f'The 50% data is: {wage_50}')\n",
    "print(f'The 75% data is: {wage_75}')"
   ]
  },
  {
   "cell_type": "markdown",
   "id": "7e4ae5ca-b86d-42fc-ac94-11c077939d5c",
   "metadata": {},
   "source": [
    "**understanding the percentile**\n",
    "- defination\n",
    "    - there are 25% "
   ]
  },
  {
   "cell_type": "code",
   "execution_count": 30,
   "id": "80031cd9-4d77-4bd4-b102-4d291552b3a2",
   "metadata": {},
   "outputs": [
    {
     "data": {
      "text/plain": [
       "6370"
      ]
     },
     "execution_count": 30,
     "metadata": {},
     "output_type": "execute_result"
    }
   ],
   "source": [
    "# for 25percentile\n",
    "con=visa_df['prevailing_wage']<34015\n",
    "visa_df[con]\n",
    "len(visa_df[con])"
   ]
  },
  {
   "cell_type": "code",
   "execution_count": 31,
   "id": "4643c4d9-3fda-40c8-bf1f-c0efc4ac0209",
   "metadata": {},
   "outputs": [
    {
     "data": {
      "text/plain": [
       "12740"
      ]
     },
     "execution_count": 31,
     "metadata": {},
     "output_type": "execute_result"
    }
   ],
   "source": [
    "#For 50 percentile\n",
    "con=visa_df['prevailing_wage']<70308\n",
    "visa_df[con]\n",
    "len(visa_df[con])"
   ]
  },
  {
   "cell_type": "code",
   "execution_count": 32,
   "id": "ce8b6733-6fe4-465f-ab1b-d68571a6f201",
   "metadata": {
    "scrolled": true
   },
   "outputs": [
    {
     "data": {
      "text/plain": [
       "19110"
      ]
     },
     "execution_count": 32,
     "metadata": {},
     "output_type": "execute_result"
    }
   ],
   "source": [
    "#For 75 percentile\n",
    "con=visa_df['prevailing_wage']<wage_75\n",
    "visa_df[con]\n",
    "len(visa_df[con])"
   ]
  },
  {
   "cell_type": "markdown",
   "id": "3385440f-055b-4e0b-a5ed-633f2bec6004",
   "metadata": {},
   "source": [
    "**Empirical Rule**\n",
    "- $68-95-99.7$"
   ]
  },
  {
   "cell_type": "markdown",
   "id": "94a448da-bfdd-45d4-a704-e8bcf8e966f3",
   "metadata": {},
   "source": [
    "- First calculate mean value\n",
    "- Second calculate std value\n",
    "- con1: mean-1*std\n",
    "- con2: mean+1*std\n",
    "- If you apply above condition on wedge data, the output count should be equal to $68 percentile$ data\n",
    "- 68% of total employees: 17326\n"
   ]
  },
  {
   "cell_type": "code",
   "execution_count": 33,
   "id": "be630ee5-ff0c-4073-8062-16d52e83089d",
   "metadata": {},
   "outputs": [
    {
     "name": "stdout",
     "output_type": "stream",
     "text": [
      "v1:21639.869999999995,v2:127271.75\n"
     ]
    },
    {
     "data": {
      "text/plain": [
       "17171"
      ]
     },
     "execution_count": 33,
     "metadata": {},
     "output_type": "execute_result"
    }
   ],
   "source": [
    "v1=wage_mean-1*wage_std #con1  it nothing but mu-1sigma\n",
    "v2=wage_mean+1*wage_std #con2\n",
    "print(f'v1:{v1},v2:{v2}')\n",
    "con1=visa_df['prevailing_wage']>v1\n",
    "con2=visa_df['prevailing_wage']<v2\n",
    "#con1 & con2\n",
    "#visa_df[con1 & con2]\n",
    "count1=len(visa_df[con1 & con2])\n",
    "#################################\n",
    "count1 "
   ]
  },
  {
   "cell_type": "code",
   "execution_count": 34,
   "id": "b061a941-ec89-486c-9abb-552767d26a7f",
   "metadata": {},
   "outputs": [
    {
     "name": "stdout",
     "output_type": "stream",
     "text": [
      "-31176.070000000007 180087.69\n"
     ]
    },
    {
     "data": {
      "text/plain": [
       "(24582, 24206.0)"
      ]
     },
     "execution_count": 34,
     "metadata": {},
     "output_type": "execute_result"
    }
   ],
   "source": [
    "# for 95 \n",
    "v1=wage_mean-2*wage_std #con1  it nothing but mu-1sigma\n",
    "v2=wage_mean+2*wage_std #con2\n",
    "print(v1,v2)\n",
    "con1=visa_df['prevailing_wage']>v1\n",
    "con2=visa_df['prevailing_wage']<v2\n",
    "#con1 & con2\n",
    "#visa_df[con1 & con2]\n",
    "count1=len(visa_df[con1 & con2])\n",
    "#################################\n",
    "count1, 95*25480/100 "
   ]
  },
  {
   "cell_type": "code",
   "execution_count": 35,
   "id": "d821d70d-154b-42d0-996f-12b44052fc4a",
   "metadata": {},
   "outputs": [
    {
     "name": "stdout",
     "output_type": "stream",
     "text": [
      "-83992.01000000001 232903.63\n"
     ]
    },
    {
     "data": {
      "text/plain": [
       "(25186, 25403.56)"
      ]
     },
     "execution_count": 35,
     "metadata": {},
     "output_type": "execute_result"
    }
   ],
   "source": [
    "# for 95 \n",
    "v1=wage_mean-3*wage_std #con1  it nothing but mu-1sigma\n",
    "v2=wage_mean+3*wage_std #con2\n",
    "print(v1,v2)\n",
    "con1=visa_df['prevailing_wage']>v1\n",
    "con2=visa_df['prevailing_wage']<v2\n",
    "#con1 & con2\n",
    "#visa_df[con1 & con2]\n",
    "count1=len(visa_df[con1 & con2])\n",
    "#################################\n",
    "count1, 99.7*25480/100"
   ]
  },
  {
   "cell_type": "code",
   "execution_count": null,
   "id": "3159ce9b-ce2b-4c02-af8b-15f58591042d",
   "metadata": {},
   "outputs": [],
   "source": []
  },
  {
   "cell_type": "code",
   "execution_count": 36,
   "id": "8a8104fe-8a9e-475b-9f1b-5897c18c9fb4",
   "metadata": {},
   "outputs": [
    {
     "name": "stdout",
     "output_type": "stream",
     "text": [
      "The 25% data is: 34015.48\n"
     ]
    },
    {
     "data": {
      "text/html": [
       "<div>\n",
       "<style scoped>\n",
       "    .dataframe tbody tr th:only-of-type {\n",
       "        vertical-align: middle;\n",
       "    }\n",
       "\n",
       "    .dataframe tbody tr th {\n",
       "        vertical-align: top;\n",
       "    }\n",
       "\n",
       "    .dataframe thead th {\n",
       "        text-align: right;\n",
       "    }\n",
       "</style>\n",
       "<table border=\"1\" class=\"dataframe\">\n",
       "  <thead>\n",
       "    <tr style=\"text-align: right;\">\n",
       "      <th></th>\n",
       "      <th>prevailing_wage</th>\n",
       "    </tr>\n",
       "  </thead>\n",
       "  <tbody>\n",
       "    <tr>\n",
       "      <th>len</th>\n",
       "      <td>25480.00</td>\n",
       "    </tr>\n",
       "    <tr>\n",
       "      <th>min</th>\n",
       "      <td>2.14</td>\n",
       "    </tr>\n",
       "    <tr>\n",
       "      <th>max</th>\n",
       "      <td>319210.27</td>\n",
       "    </tr>\n",
       "    <tr>\n",
       "      <th>mean</th>\n",
       "      <td>74455.81</td>\n",
       "    </tr>\n",
       "    <tr>\n",
       "      <th>median</th>\n",
       "      <td>70308.21</td>\n",
       "    </tr>\n",
       "    <tr>\n",
       "      <th>std</th>\n",
       "      <td>52815.94</td>\n",
       "    </tr>\n",
       "    <tr>\n",
       "      <th>25%</th>\n",
       "      <td>34015.48</td>\n",
       "    </tr>\n",
       "    <tr>\n",
       "      <th>50%</th>\n",
       "      <td>70308.21</td>\n",
       "    </tr>\n",
       "    <tr>\n",
       "      <th>75</th>\n",
       "      <td>107735.51</td>\n",
       "    </tr>\n",
       "  </tbody>\n",
       "</table>\n",
       "</div>"
      ],
      "text/plain": [
       "        prevailing_wage\n",
       "len            25480.00\n",
       "min                2.14\n",
       "max           319210.27\n",
       "mean           74455.81\n",
       "median         70308.21\n",
       "std            52815.94\n",
       "25%            34015.48\n",
       "50%            70308.21\n",
       "75            107735.51"
      ]
     },
     "execution_count": 36,
     "metadata": {},
     "output_type": "execute_result"
    }
   ],
   "source": [
    "wage_len=round(len(visa_df['prevailing_wage']),2)\n",
    "wage_min=round(visa_df['prevailing_wage'].min(),2)\n",
    "wage_max=round(visa_df['prevailing_wage'].max(),2) #pd\n",
    "wage_mean=round(visa_df['prevailing_wage'].mean(),2) #pd\n",
    "wage_meadian=round(visa_df['prevailing_wage'].median(),2) #pd\n",
    "wage_std=round(visa_df['prevailing_wage'].std(),2)\n",
    "##############################################################\n",
    "wage_25=round(np.quantile(visa_df['prevailing_wage'],0.25),2)\n",
    "wage_50=round(np.quantile(visa_df['prevailing_wage'],0.50),2)\n",
    "wage_75=round(np.quantile(visa_df['prevailing_wage'],0.75),2)\n",
    "print(f'The 25% data is: {wage_25}')\n",
    "###############################################################\n",
    "list_values=[wage_len,wage_min,wage_max,wage_mean,wage_meadian,wage_std,\n",
    "            wage_25,wage_50,wage_75]\n",
    "index_val=['len','min','max','mean','median','std','25%','50%','75']\n",
    "pd.DataFrame(list_values,index_val,columns=['prevailing_wage'])"
   ]
  },
  {
   "cell_type": "code",
   "execution_count": 38,
   "id": "d4532169-635e-4a6d-9804-4e8f606a3343",
   "metadata": {},
   "outputs": [
    {
     "data": {
      "text/plain": [
       "Index(['no_of_employees', 'yr_of_estab', 'prevailing_wage'], dtype='object')"
      ]
     },
     "execution_count": 38,
     "metadata": {},
     "output_type": "execute_result"
    }
   ],
   "source": [
    "columns=visa_df.select_dtypes(exclude='object').columns\n",
    "columns"
   ]
  },
  {
   "cell_type": "code",
   "execution_count": 39,
   "id": "29bc601b-71be-4188-b084-2146cb7e34f2",
   "metadata": {},
   "outputs": [
    {
     "data": {
      "text/plain": [
       "['ArrowDtype',\n",
       " 'BooleanDtype',\n",
       " 'Categorical',\n",
       " 'CategoricalDtype',\n",
       " 'CategoricalIndex',\n",
       " 'DataFrame',\n",
       " 'DateOffset',\n",
       " 'DatetimeIndex',\n",
       " 'DatetimeTZDtype',\n",
       " 'ExcelFile',\n",
       " 'ExcelWriter',\n",
       " 'Flags',\n",
       " 'Float32Dtype',\n",
       " 'Float64Dtype',\n",
       " 'Grouper',\n",
       " 'HDFStore',\n",
       " 'Index',\n",
       " 'IndexSlice',\n",
       " 'Int16Dtype',\n",
       " 'Int32Dtype',\n",
       " 'Int64Dtype',\n",
       " 'Int8Dtype',\n",
       " 'Interval',\n",
       " 'IntervalDtype',\n",
       " 'IntervalIndex',\n",
       " 'MultiIndex',\n",
       " 'NA',\n",
       " 'NaT',\n",
       " 'NamedAgg',\n",
       " 'Period',\n",
       " 'PeriodDtype',\n",
       " 'PeriodIndex',\n",
       " 'RangeIndex',\n",
       " 'Series',\n",
       " 'SparseDtype',\n",
       " 'StringDtype',\n",
       " 'Timedelta',\n",
       " 'TimedeltaIndex',\n",
       " 'Timestamp',\n",
       " 'UInt16Dtype',\n",
       " 'UInt32Dtype',\n",
       " 'UInt64Dtype',\n",
       " 'UInt8Dtype',\n",
       " '__all__',\n",
       " '__builtins__',\n",
       " '__cached__',\n",
       " '__doc__',\n",
       " '__docformat__',\n",
       " '__file__',\n",
       " '__git_version__',\n",
       " '__loader__',\n",
       " '__name__',\n",
       " '__package__',\n",
       " '__path__',\n",
       " '__spec__',\n",
       " '__version__',\n",
       " '_built_with_meson',\n",
       " '_config',\n",
       " '_is_numpy_dev',\n",
       " '_libs',\n",
       " '_pandas_datetime_CAPI',\n",
       " '_pandas_parser_CAPI',\n",
       " '_testing',\n",
       " '_typing',\n",
       " '_version_meson',\n",
       " 'annotations',\n",
       " 'api',\n",
       " 'array',\n",
       " 'arrays',\n",
       " 'bdate_range',\n",
       " 'compat',\n",
       " 'concat',\n",
       " 'core',\n",
       " 'crosstab',\n",
       " 'cut',\n",
       " 'date_range',\n",
       " 'describe_option',\n",
       " 'errors',\n",
       " 'eval',\n",
       " 'factorize',\n",
       " 'from_dummies',\n",
       " 'get_dummies',\n",
       " 'get_option',\n",
       " 'infer_freq',\n",
       " 'interval_range',\n",
       " 'io',\n",
       " 'isna',\n",
       " 'isnull',\n",
       " 'json_normalize',\n",
       " 'lreshape',\n",
       " 'melt',\n",
       " 'merge',\n",
       " 'merge_asof',\n",
       " 'merge_ordered',\n",
       " 'notna',\n",
       " 'notnull',\n",
       " 'offsets',\n",
       " 'option_context',\n",
       " 'options',\n",
       " 'pandas',\n",
       " 'period_range',\n",
       " 'pivot',\n",
       " 'pivot_table',\n",
       " 'plotting',\n",
       " 'qcut',\n",
       " 'read_clipboard',\n",
       " 'read_csv',\n",
       " 'read_excel',\n",
       " 'read_feather',\n",
       " 'read_fwf',\n",
       " 'read_gbq',\n",
       " 'read_hdf',\n",
       " 'read_html',\n",
       " 'read_json',\n",
       " 'read_orc',\n",
       " 'read_parquet',\n",
       " 'read_pickle',\n",
       " 'read_sas',\n",
       " 'read_spss',\n",
       " 'read_sql',\n",
       " 'read_sql_query',\n",
       " 'read_sql_table',\n",
       " 'read_stata',\n",
       " 'read_table',\n",
       " 'read_xml',\n",
       " 'reset_option',\n",
       " 'set_eng_float_format',\n",
       " 'set_option',\n",
       " 'show_versions',\n",
       " 'test',\n",
       " 'testing',\n",
       " 'timedelta_range',\n",
       " 'to_datetime',\n",
       " 'to_numeric',\n",
       " 'to_pickle',\n",
       " 'to_timedelta',\n",
       " 'tseries',\n",
       " 'unique',\n",
       " 'util',\n",
       " 'value_counts',\n",
       " 'wide_to_long']"
      ]
     },
     "execution_count": 39,
     "metadata": {},
     "output_type": "execute_result"
    }
   ],
   "source": [
    "dir(pd)"
   ]
  },
  {
   "cell_type": "code",
   "execution_count": 49,
   "id": "076e328c-6a0a-4a52-917c-4b0d8a49255b",
   "metadata": {},
   "outputs": [
    {
     "data": {
      "text/html": [
       "<div>\n",
       "<style scoped>\n",
       "    .dataframe tbody tr th:only-of-type {\n",
       "        vertical-align: middle;\n",
       "    }\n",
       "\n",
       "    .dataframe tbody tr th {\n",
       "        vertical-align: top;\n",
       "    }\n",
       "\n",
       "    .dataframe thead tr th {\n",
       "        text-align: left;\n",
       "    }\n",
       "</style>\n",
       "<table border=\"1\" class=\"dataframe\">\n",
       "  <thead>\n",
       "    <tr>\n",
       "      <th></th>\n",
       "      <th>&lt;built-in function len&gt;</th>\n",
       "      <th>-26</th>\n",
       "      <th>602069</th>\n",
       "      <th>5667.04</th>\n",
       "      <th>2109.0</th>\n",
       "      <th>22877.93</th>\n",
       "      <th>1022.0</th>\n",
       "      <th>2109.0</th>\n",
       "      <th>3504.0</th>\n",
       "    </tr>\n",
       "    <tr>\n",
       "      <th></th>\n",
       "      <th>&lt;built-in function len&gt;</th>\n",
       "      <th>1800</th>\n",
       "      <th>2016</th>\n",
       "      <th>1979.41</th>\n",
       "      <th>1997.0</th>\n",
       "      <th>42.37</th>\n",
       "      <th>1976.0</th>\n",
       "      <th>1997.0</th>\n",
       "      <th>2005.0</th>\n",
       "    </tr>\n",
       "    <tr>\n",
       "      <th></th>\n",
       "      <th>&lt;built-in function len&gt;</th>\n",
       "      <th>2.14</th>\n",
       "      <th>319210.27</th>\n",
       "      <th>74455.81</th>\n",
       "      <th>70308.21</th>\n",
       "      <th>52815.94</th>\n",
       "      <th>34015.48</th>\n",
       "      <th>70308.21</th>\n",
       "      <th>107735.51</th>\n",
       "    </tr>\n",
       "  </thead>\n",
       "  <tbody>\n",
       "    <tr>\n",
       "      <th>no_of_employees</th>\n",
       "      <td>&lt;built-in function len&gt;</td>\n",
       "      <td>-26.00</td>\n",
       "      <td>602069.00</td>\n",
       "      <td>5667.04</td>\n",
       "      <td>2109.00</td>\n",
       "      <td>22877.93</td>\n",
       "      <td>1022.00</td>\n",
       "      <td>2109.00</td>\n",
       "      <td>3504.00</td>\n",
       "    </tr>\n",
       "    <tr>\n",
       "      <th>yr_of_estab</th>\n",
       "      <td>&lt;built-in function len&gt;</td>\n",
       "      <td>1800.00</td>\n",
       "      <td>2016.00</td>\n",
       "      <td>1979.41</td>\n",
       "      <td>1997.00</td>\n",
       "      <td>42.37</td>\n",
       "      <td>1976.00</td>\n",
       "      <td>1997.00</td>\n",
       "      <td>2005.00</td>\n",
       "    </tr>\n",
       "    <tr>\n",
       "      <th>prevailing_wage</th>\n",
       "      <td>&lt;built-in function len&gt;</td>\n",
       "      <td>2.14</td>\n",
       "      <td>319210.27</td>\n",
       "      <td>74455.81</td>\n",
       "      <td>70308.21</td>\n",
       "      <td>52815.94</td>\n",
       "      <td>34015.48</td>\n",
       "      <td>70308.21</td>\n",
       "      <td>107735.51</td>\n",
       "    </tr>\n",
       "  </tbody>\n",
       "</table>\n",
       "</div>"
      ],
      "text/plain": [
       "                 <built-in function len>      -26     602069   5667.04  \\\n",
       "                 <built-in function len>     1800       2016   1979.41   \n",
       "                 <built-in function len>     2.14  319210.27  74455.81   \n",
       "no_of_employees  <built-in function len>   -26.00  602069.00   5667.04   \n",
       "yr_of_estab      <built-in function len>  1800.00    2016.00   1979.41   \n",
       "prevailing_wage  <built-in function len>     2.14  319210.27  74455.81   \n",
       "\n",
       "                   2109.0  22877.93    1022.0    2109.0     3504.0  \n",
       "                   1997.0     42.37    1976.0    1997.0     2005.0  \n",
       "                 70308.21  52815.94  34015.48  70308.21  107735.51  \n",
       "no_of_employees   2109.00  22877.93   1022.00   2109.00    3504.00  \n",
       "yr_of_estab       1997.00     42.37   1976.00   1997.00    2005.00  \n",
       "prevailing_wage  70308.21  52815.94  34015.48  70308.21  107735.51  "
      ]
     },
     "execution_count": 49,
     "metadata": {},
     "output_type": "execute_result"
    }
   ],
   "source": [
    "cols=['no_of_employees', 'yr_of_estab', 'prevailing_wage']\n",
    "list_values=[]\n",
    "for i in cols:\n",
    "    #countt=len(visa_df[i])\n",
    "    min=round(visa_df[i].min(),2)\n",
    "    max=round(visa_df[i].max(),2) #pd\n",
    "    mean=round(visa_df[i].mean(),2) #pd\n",
    "    meadian=round(visa_df[i].median(),2) #pd\n",
    "    std=round(visa_df[i].std(),2)\n",
    "##############################################################\n",
    "    p_25=round(np.quantile(visa_df[i],0.25),2)\n",
    "    p_50=round(np.quantile(visa_df[i],0.50),2)\n",
    "    p_75=round(np.quantile(visa_df[i],0.75),2)\n",
    "        #listprint(f'The 25% data is: {wage_25}'))\n",
    "###############################################################\n",
    "# list_values=[wage_len,wage_min,wage_max,wage_mean,wage_meadian,wage_std,\n",
    "#             wage_25,wage_50,wage_75]\n",
    "    list_values.append([len,min,max,mean,meadian,std,p_25,p_50,p_75])\n",
    "index_val=['len','min','max','mean','median','std','25%','50%','75']\n",
    "pd.DataFrame(list_values,cols,columns=list_values)"
   ]
  },
  {
   "cell_type": "code",
   "execution_count": 50,
   "id": "cd9bdc7f-66a4-48de-b868-a572e9f22855",
   "metadata": {},
   "outputs": [
    {
     "data": {
      "text/plain": [
       "['len', 'min', 'max', 'mean', 'median', 'std', '25%', '50%', '75']"
      ]
     },
     "execution_count": 50,
     "metadata": {},
     "output_type": "execute_result"
    }
   ],
   "source": [
    "cols=['no_of_employees', 'yr_of_estab', 'prevailing_wage']\n",
    "list_values=[]\n",
    "for i in cols:\n",
    "    #countt=len(visa_df[i])\n",
    "    min=round(visa_df[i].min(),2)\n",
    "    max=round(visa_df[i].max(),2) #pd\n",
    "    mean=round(visa_df[i].mean(),2) #pd\n",
    "    meadian=round(visa_df[i].median(),2) #pd\n",
    "    std=round(visa_df[i].std(),2)\n",
    "##############################################################\n",
    "    p_25=round(np.quantile(visa_df[i],0.25),2)\n",
    "    p_50=round(np.quantile(visa_df[i],0.50),2)\n",
    "    p_75=round(np.quantile(visa_df[i],0.75),2)\n",
    "        #listprint(f'The 25% data is: {wage_25}'))\n",
    "###############################################################\n",
    "# list_values=[wage_len,wage_min,wage_max,wage_mean,wage_meadian,wage_std,\n",
    "#             wage_25,wage_50,wage_75]\n",
    "    list_values.append([len,min,max,mean,meadian,std,p_25,p_50,p_75])\n",
    "index_val=['len','min','max','mean','median','std','25%','50%','75']\n",
    "# pd.DataFrame(list_values,index_val,columns=cols)\n",
    "index_val"
   ]
  },
  {
   "cell_type": "code",
   "execution_count": 41,
   "id": "e09e98b9-1850-4214-853a-613886a001fd",
   "metadata": {},
   "outputs": [
    {
     "data": {
      "text/html": [
       "<div>\n",
       "<style scoped>\n",
       "    .dataframe tbody tr th:only-of-type {\n",
       "        vertical-align: middle;\n",
       "    }\n",
       "\n",
       "    .dataframe tbody tr th {\n",
       "        vertical-align: top;\n",
       "    }\n",
       "\n",
       "    .dataframe thead th {\n",
       "        text-align: right;\n",
       "    }\n",
       "</style>\n",
       "<table border=\"1\" class=\"dataframe\">\n",
       "  <thead>\n",
       "    <tr style=\"text-align: right;\">\n",
       "      <th></th>\n",
       "      <th>min</th>\n",
       "      <th>max</th>\n",
       "      <th>mean</th>\n",
       "      <th>median</th>\n",
       "      <th>std</th>\n",
       "      <th>25%</th>\n",
       "      <th>50%</th>\n",
       "      <th>75</th>\n",
       "    </tr>\n",
       "  </thead>\n",
       "  <tbody>\n",
       "    <tr>\n",
       "      <th>no_of_employees</th>\n",
       "      <td>-26.00</td>\n",
       "      <td>602069.00</td>\n",
       "      <td>5667.04</td>\n",
       "      <td>2109.00</td>\n",
       "      <td>22877.93</td>\n",
       "      <td>1022.00</td>\n",
       "      <td>2109.00</td>\n",
       "      <td>3504.00</td>\n",
       "    </tr>\n",
       "    <tr>\n",
       "      <th>yr_of_estab</th>\n",
       "      <td>1800.00</td>\n",
       "      <td>2016.00</td>\n",
       "      <td>1979.41</td>\n",
       "      <td>1997.00</td>\n",
       "      <td>42.37</td>\n",
       "      <td>1976.00</td>\n",
       "      <td>1997.00</td>\n",
       "      <td>2005.00</td>\n",
       "    </tr>\n",
       "    <tr>\n",
       "      <th>prevailing_wage</th>\n",
       "      <td>2.14</td>\n",
       "      <td>319210.27</td>\n",
       "      <td>74455.81</td>\n",
       "      <td>70308.21</td>\n",
       "      <td>52815.94</td>\n",
       "      <td>34015.48</td>\n",
       "      <td>70308.21</td>\n",
       "      <td>107735.51</td>\n",
       "    </tr>\n",
       "  </tbody>\n",
       "</table>\n",
       "</div>"
      ],
      "text/plain": [
       "                     min        max      mean    median       std       25%  \\\n",
       "no_of_employees   -26.00  602069.00   5667.04   2109.00  22877.93   1022.00   \n",
       "yr_of_estab      1800.00    2016.00   1979.41   1997.00     42.37   1976.00   \n",
       "prevailing_wage     2.14  319210.27  74455.81  70308.21  52815.94  34015.48   \n",
       "\n",
       "                      50%         75  \n",
       "no_of_employees   2109.00    3504.00  \n",
       "yr_of_estab       1997.00    2005.00  \n",
       "prevailing_wage  70308.21  107735.51  "
      ]
     },
     "execution_count": 41,
     "metadata": {},
     "output_type": "execute_result"
    }
   ],
   "source": [
    "cols=['no_of_employees', 'yr_of_estab', 'prevailing_wage']\n",
    "list_values1=[]\n",
    "for i in cols:\n",
    "    #len=round(len(visa_df[i]),2)\n",
    "    min=round(visa_df[i].min(),2)\n",
    "    max=round(visa_df[i].max(),2) #pd\n",
    "    mean=round(visa_df[i].mean(),2) #pd\n",
    "    meadian=round(visa_df[i].median(),2) #pd\n",
    "    std=round(visa_df[i].std(),2)\n",
    "##############################################################\n",
    "    p_25=round(np.quantile(visa_df[i],0.25),2)\n",
    "    p_50=round(np.quantile(visa_df[i],0.50),2)\n",
    "    p_75=round(np.quantile(visa_df[i],0.75),2)\n",
    "        #listprint(f'The 25% data is: {wage_25}'))\n",
    "###############################################################\n",
    "# list_values=[wage_len,wage_min,wage_max,wage_mean,wage_meadian,wage_std,\n",
    "#             wage_25,wage_50,wage_75]\n",
    "    list_values1.append([min,max,mean,meadian,std,p_25,p_50,p_75])\n",
    "\n",
    "\n",
    "index_val=['min','max','mean','median','std','25%','50%','75']\n",
    "df=pd.DataFrame(list_values1,columns=index_val,index=cols)\n",
    "df"
   ]
  },
  {
   "cell_type": "code",
   "execution_count": 69,
   "id": "64fd6267-57e5-439e-b3a3-c600784db1f5",
   "metadata": {},
   "outputs": [
    {
     "data": {
      "text/plain": [
       "Index(['no_of_employees', 'yr_of_estab', 'prevailing_wage'], dtype='object')"
      ]
     },
     "execution_count": 69,
     "metadata": {},
     "output_type": "execute_result"
    }
   ],
   "source": [
    "columns=visa_df.select_dtypes(exclude='object').columns\n",
    "columns"
   ]
  },
  {
   "cell_type": "markdown",
   "id": "2b3b4a71-1267-4e95-b632-0ce39b524e77",
   "metadata": {},
   "source": [
    "**Transpose**\n",
    "- .T\n",
    "- ust it at last to transpose the table\n",
    "- after transpose rows become column and column becomes rows\n",
    "    - rows =====> columns\n",
    "    - columns====> rows"
   ]
  },
  {
   "cell_type": "code",
   "execution_count": 72,
   "id": "4e97701c-4448-4522-9264-509935c3f986",
   "metadata": {},
   "outputs": [
    {
     "data": {
      "text/html": [
       "<div>\n",
       "<style scoped>\n",
       "    .dataframe tbody tr th:only-of-type {\n",
       "        vertical-align: middle;\n",
       "    }\n",
       "\n",
       "    .dataframe tbody tr th {\n",
       "        vertical-align: top;\n",
       "    }\n",
       "\n",
       "    .dataframe thead th {\n",
       "        text-align: right;\n",
       "    }\n",
       "</style>\n",
       "<table border=\"1\" class=\"dataframe\">\n",
       "  <thead>\n",
       "    <tr style=\"text-align: right;\">\n",
       "      <th></th>\n",
       "      <th>no_of_employees</th>\n",
       "      <th>yr_of_estab</th>\n",
       "      <th>prevailing_wage</th>\n",
       "    </tr>\n",
       "  </thead>\n",
       "  <tbody>\n",
       "    <tr>\n",
       "      <th>min</th>\n",
       "      <td>-26.00</td>\n",
       "      <td>1800.00</td>\n",
       "      <td>2.14</td>\n",
       "    </tr>\n",
       "    <tr>\n",
       "      <th>max</th>\n",
       "      <td>602069.00</td>\n",
       "      <td>2016.00</td>\n",
       "      <td>319210.27</td>\n",
       "    </tr>\n",
       "    <tr>\n",
       "      <th>mean</th>\n",
       "      <td>5667.04</td>\n",
       "      <td>1979.41</td>\n",
       "      <td>74455.81</td>\n",
       "    </tr>\n",
       "    <tr>\n",
       "      <th>median</th>\n",
       "      <td>2109.00</td>\n",
       "      <td>1997.00</td>\n",
       "      <td>70308.21</td>\n",
       "    </tr>\n",
       "    <tr>\n",
       "      <th>std</th>\n",
       "      <td>22877.93</td>\n",
       "      <td>42.37</td>\n",
       "      <td>52815.94</td>\n",
       "    </tr>\n",
       "    <tr>\n",
       "      <th>25%</th>\n",
       "      <td>1022.00</td>\n",
       "      <td>1976.00</td>\n",
       "      <td>34015.48</td>\n",
       "    </tr>\n",
       "    <tr>\n",
       "      <th>50%</th>\n",
       "      <td>2109.00</td>\n",
       "      <td>1997.00</td>\n",
       "      <td>70308.21</td>\n",
       "    </tr>\n",
       "    <tr>\n",
       "      <th>75</th>\n",
       "      <td>3504.00</td>\n",
       "      <td>2005.00</td>\n",
       "      <td>107735.51</td>\n",
       "    </tr>\n",
       "  </tbody>\n",
       "</table>\n",
       "</div>"
      ],
      "text/plain": [
       "        no_of_employees  yr_of_estab  prevailing_wage\n",
       "min              -26.00      1800.00             2.14\n",
       "max           602069.00      2016.00        319210.27\n",
       "mean            5667.04      1979.41         74455.81\n",
       "median          2109.00      1997.00         70308.21\n",
       "std            22877.93        42.37         52815.94\n",
       "25%             1022.00      1976.00         34015.48\n",
       "50%             2109.00      1997.00         70308.21\n",
       "75              3504.00      2005.00        107735.51"
      ]
     },
     "execution_count": 72,
     "metadata": {},
     "output_type": "execute_result"
    }
   ],
   "source": [
    "# Transpose\n",
    "df.T"
   ]
  },
  {
   "cell_type": "code",
   "execution_count": 66,
   "id": "f381d9bf-309e-45e7-a2df-675ef64a848f",
   "metadata": {},
   "outputs": [
    {
     "data": {
      "text/html": [
       "<div>\n",
       "<style scoped>\n",
       "    .dataframe tbody tr th:only-of-type {\n",
       "        vertical-align: middle;\n",
       "    }\n",
       "\n",
       "    .dataframe tbody tr th {\n",
       "        vertical-align: top;\n",
       "    }\n",
       "\n",
       "    .dataframe thead th {\n",
       "        text-align: right;\n",
       "    }\n",
       "</style>\n",
       "<table border=\"1\" class=\"dataframe\">\n",
       "  <thead>\n",
       "    <tr style=\"text-align: right;\">\n",
       "      <th></th>\n",
       "      <th>no_of_employees</th>\n",
       "      <th>yr_of_estab</th>\n",
       "      <th>prevailing_wage</th>\n",
       "    </tr>\n",
       "  </thead>\n",
       "  <tbody>\n",
       "    <tr>\n",
       "      <th>min</th>\n",
       "      <td>-26.00</td>\n",
       "      <td>1800.00</td>\n",
       "      <td>2.14</td>\n",
       "    </tr>\n",
       "    <tr>\n",
       "      <th>max</th>\n",
       "      <td>602069.00</td>\n",
       "      <td>2016.00</td>\n",
       "      <td>319210.27</td>\n",
       "    </tr>\n",
       "    <tr>\n",
       "      <th>mean</th>\n",
       "      <td>5667.04</td>\n",
       "      <td>1979.41</td>\n",
       "      <td>74455.81</td>\n",
       "    </tr>\n",
       "    <tr>\n",
       "      <th>median</th>\n",
       "      <td>2109.00</td>\n",
       "      <td>1997.00</td>\n",
       "      <td>70308.21</td>\n",
       "    </tr>\n",
       "    <tr>\n",
       "      <th>std</th>\n",
       "      <td>22877.93</td>\n",
       "      <td>42.37</td>\n",
       "      <td>52815.94</td>\n",
       "    </tr>\n",
       "    <tr>\n",
       "      <th>25%</th>\n",
       "      <td>1022.00</td>\n",
       "      <td>1976.00</td>\n",
       "      <td>34015.48</td>\n",
       "    </tr>\n",
       "    <tr>\n",
       "      <th>50%</th>\n",
       "      <td>2109.00</td>\n",
       "      <td>1997.00</td>\n",
       "      <td>70308.21</td>\n",
       "    </tr>\n",
       "    <tr>\n",
       "      <th>75</th>\n",
       "      <td>3504.00</td>\n",
       "      <td>2005.00</td>\n",
       "      <td>107735.51</td>\n",
       "    </tr>\n",
       "  </tbody>\n",
       "</table>\n",
       "</div>"
      ],
      "text/plain": [
       "        no_of_employees  yr_of_estab  prevailing_wage\n",
       "min              -26.00      1800.00             2.14\n",
       "max           602069.00      2016.00        319210.27\n",
       "mean            5667.04      1979.41         74455.81\n",
       "median          2109.00      1997.00         70308.21\n",
       "std            22877.93        42.37         52815.94\n",
       "25%             1022.00      1976.00         34015.48\n",
       "50%             2109.00      1997.00         70308.21\n",
       "75              3504.00      2005.00        107735.51"
      ]
     },
     "execution_count": 66,
     "metadata": {},
     "output_type": "execute_result"
    }
   ],
   "source": [
    "cols=['no_of_employees', 'yr_of_estab', 'prevailing_wage']\n",
    "l1=[]\n",
    "for i in cols:\n",
    "    #countt=round(len(visa_df[i]),2)\n",
    "    min=round(visa_df[i].min(),2)\n",
    "    max=round(visa_df[i].max(),2) #pd\n",
    "    mean=round(visa_df[i].mean(),2) #pd\n",
    "    meadian=round(visa_df[i].median(),2) #pd\n",
    "    std=round(visa_df[i].std(),2)\n",
    "    ##############################################################\n",
    "    p_25=round(np.quantile(visa_df[i],0.25),2)\n",
    "    p_50=round(np.quantile(visa_df[i],0.50),2)\n",
    "    p_75=round(np.quantile(visa_df[i],0.75),2)\n",
    "    #print(f'The 25% data is: {wage_25}')\n",
    "    l1.append([min,max,mean,meadian,std,p_25,p_50,p_75])\n",
    "    ###############################################################\n",
    "    #list_values=[wage_len,wage_min,wage_max,wage_mean,wage_meadian,wage_std,\n",
    "               # wage_25,wage_50,wage_75]\n",
    "    \n",
    "index_val=['min','max','mean','median','std','25%','50%','75']\n",
    "df=pd.DataFrame(l1,columns=index_val,index=cols).T\n",
    "df"
   ]
  },
  {
   "cell_type": "code",
   "execution_count": 64,
   "id": "a10129f5-cd48-41ac-bfdc-121ce7095ffd",
   "metadata": {},
   "outputs": [
    {
     "data": {
      "text/plain": [
       "[['len', 'min', 'max', 'mean', 'median', 'std', '25%', '50%', '75']]"
      ]
     },
     "execution_count": 64,
     "metadata": {},
     "output_type": "execute_result"
    }
   ],
   "source": [
    "list_values"
   ]
  },
  {
   "cell_type": "markdown",
   "id": "d666fb1f-5c97-4fd0-97c5-0729c1a94b0e",
   "metadata": {},
   "source": [
    "**Describe**        \n",
    "- It is for only numirical data"
   ]
  },
  {
   "cell_type": "code",
   "execution_count": null,
   "id": "2475ed18-b263-478c-80b6-052cfea14824",
   "metadata": {},
   "outputs": [],
   "source": [
    "l1"
   ]
  },
  {
   "cell_type": "code",
   "execution_count": null,
   "id": "ab868608-8055-4b0d-abf4-147aeab1e045",
   "metadata": {},
   "outputs": [],
   "source": [
    "visa_df.describe()"
   ]
  },
  {
   "cell_type": "markdown",
   "id": "397f9d4e-94bd-42ed-9bff-fe062d7e78fd",
   "metadata": {},
   "source": [
    "**Histogram**\n",
    "- Histogram can get by matplotlib\n",
    "- plt.hist()"
   ]
  },
  {
   "cell_type": "code",
   "execution_count": null,
   "id": "f8c573d5-d036-46cc-9b67-6fdbbec48c80",
   "metadata": {},
   "outputs": [],
   "source": [
    "import matplotlib.pyplot as plt"
   ]
  },
  {
   "cell_type": "code",
   "execution_count": null,
   "id": "720e58d6-dfd3-41d3-87a2-f734817993f6",
   "metadata": {},
   "outputs": [],
   "source": [
    "plt.hist(visa_df['prevailing_wage'])"
   ]
  },
  {
   "cell_type": "code",
   "execution_count": null,
   "id": "01abb2cc-de50-4851-bf62-d8cca52af66d",
   "metadata": {},
   "outputs": [],
   "source": [
    "plt.hist(visa_df[['prevailing_wage',]])"
   ]
  },
  {
   "cell_type": "markdown",
   "id": "c3dbc92c-f079-45f1-aca7-a469e1a73c18",
   "metadata": {},
   "source": [
    "from interval range\n",
    "- 2.13670000e+00 to 3.19229500e+04\n",
    "- 6038 members have salary\n",
    "\n",
    "- 3.19229500e+04 to 6.38437634e+04\n",
    "- 5504 members have salary"
   ]
  },
  {
   "cell_type": "markdown",
   "id": "058d4417-39bf-49fa-a3da-ef404302ef12",
   "metadata": {},
   "source": [
    "**Histogram gives 3 outpots**\n",
    "- 1.frquuency\n",
    "   - in each intervals range how much observations are there\n",
    "- 2.interval\n",
    "   - interval range\n",
    "- 3.number of interval"
   ]
  },
  {
   "cell_type": "code",
   "execution_count": null,
   "id": "d633f1ff-10d8-4c07-8359-32e63c6d79c4",
   "metadata": {},
   "outputs": [],
   "source": [
    "plt.hist(visa_df['prevailing_wage',bins: 11])"
   ]
  },
  {
   "cell_type": "markdown",
   "id": "d40576b4-3a0d-4b28-8f09-8adec315a8ff",
   "metadata": {},
   "source": [
    "**checkpoint-1**"
   ]
  },
  {
   "cell_type": "code",
   "execution_count": null,
   "id": "af5c4835-593b-47b2-8424-83d2e9cded8c",
   "metadata": {},
   "outputs": [],
   "source": [
    "v1=2.13670000e+00 \n",
    "v2= 3.19229500e+04\n",
    "con1=visa_df['prevailing_wage']>=v1\n",
    "con2=visa_df['prevailing_wage']<v2\n",
    "#con1 & con2\n",
    "#visa_df[con1 & con2]\n",
    "count1=len(visa_df[con1 & con2])\n",
    "count1"
   ]
  },
  {
   "cell_type": "code",
   "execution_count": null,
   "id": "929e4a7f-cf47-4b2f-99c7-2eabb54d1d74",
   "metadata": {},
   "outputs": [],
   "source": [
    "plt.hist(visa_df['prevailing_wage'],bins=100)"
   ]
  },
  {
   "cell_type": "code",
   "execution_count": null,
   "id": "25f2e062-be27-4c85-a09a-23cbe42ff2f9",
   "metadata": {},
   "outputs": [],
   "source": [
    "plt.hist(visa_df['prevailing_wage'],bins=100)\n",
    "plt.title('Histrogram')\n",
    "plt.xlabel('Interval')\n",
    "plt.ylabel('Frequency')\n",
    "plt.show()"
   ]
  },
  {
   "cell_type": "code",
   "execution_count": null,
   "id": "de706058-fb8c-4add-95ee-d3e818b49d53",
   "metadata": {},
   "outputs": [],
   "source": [
    "plt.figure(figsize=(14,3))\n",
    "plt.subplot(1,3,1)\n",
    "plt.hist(visa_df['prevailing_wage'],bins=40)\n",
    "plt.title('Histrogram1')\n",
    "plt.xlabel('Interval')\n",
    "plt.ylabel('Frequency')\n",
    "# plt.show()\n",
    "\n",
    "####################################\n",
    "plt.figure(figsize=(14,3))\n",
    "plt.subplot(1,3,2)\n",
    "plt.hist(visa_df['no_of_employees'],bins=40)\n",
    "plt.title('Histrogram2')\n",
    "plt.xlabel('Interval')\n",
    "plt.ylabel('Frequency')\n",
    "# plt.show()\n",
    "##################\n",
    "plt.figure(figsize=(14,3))\n",
    "plt.subplot(1,3,2)\n",
    "plt.hist(visa_df['yr_of_estab'],bins=40)\n",
    "plt.title('Histrogram3')\n",
    "plt.xlabel('Interval')\n",
    "plt.ylabel('Frequency')\n",
    "# plt.show()\n"
   ]
  },
  {
   "cell_type": "code",
   "execution_count": null,
   "id": "62cb8036-7e3d-474f-a55e-ed753d7d6231",
   "metadata": {},
   "outputs": [],
   "source": [
    "plt.subplot(1,3,2)\n",
    "plt.hist(visa_df['yr_of_estab'],bins=100)\n",
    "plt.title('Histrogram')\n",
    "plt.xlabel('Interval')\n",
    "plt.ylabel('Frequency')"
   ]
  },
  {
   "cell_type": "code",
   "execution_count": null,
   "id": "1add2fce-7ea1-4f52-ac0c-8c8ec190e351",
   "metadata": {},
   "outputs": [],
   "source": [
    "import matplotlib.pyplot as plt\n",
    "plt.figure(figsize=(18,3))\n",
    "for i in range(len(cols)):\n",
    "    plt.subplot(1,len(cols),i+1)\n",
    "    plt.hist(visa_df[cols[i]],bins=40)\n",
    "    plt.title(f'{cols[i]}Histrogra')\n",
    "    plt.xlabel('Interval')\n",
    "    plt.ylabel('Frequency')"
   ]
  },
  {
   "cell_type": "markdown",
   "id": "0992ee91-372f-4191-9dc8-78db1af37605",
   "metadata": {},
   "source": [
    "**Histogram using Seaborn**\n",
    "- hisplot\n",
    "- distplot"
   ]
  },
  {
   "cell_type": "code",
   "execution_count": null,
   "id": "7ac4c0c5-9b00-44cb-9529-9f7c0705dae1",
   "metadata": {},
   "outputs": [],
   "source": [
    "import seaborn as sns\n",
    "sns.histplot(visa_df['prevailing_wage'])"
   ]
  },
  {
   "cell_type": "code",
   "execution_count": null,
   "id": "a8644f91-3c66-4dd5-8a6c-130df7096585",
   "metadata": {},
   "outputs": [],
   "source": [
    "# distplot\n",
    "sns.distplot(visa_df['prevailing_wage'])"
   ]
  },
  {
   "cell_type": "code",
   "execution_count": null,
   "id": "f62f9cee-a910-45ac-b58a-93807ee4de6d",
   "metadata": {},
   "outputs": [],
   "source": [
    "sns.displot(visa_df['prevailing_wage'])"
   ]
  },
  {
   "cell_type": "markdown",
   "id": "118f1c20-3d16-4ed2-9dc0-9c22616e56a1",
   "metadata": {},
   "source": [
    "**Inorder to avoide the warnings**"
   ]
  },
  {
   "cell_type": "code",
   "execution_count": null,
   "id": "3abcfa99-5ce9-47a6-8394-91f351950579",
   "metadata": {},
   "outputs": [],
   "source": [
    "\n",
    "import warnings\n",
    "warnings.filterwarnings('ignore')\n",
    "# distplot\n",
    "sns.distplot(visa_df['prevailing_wage'])"
   ]
  },
  {
   "cell_type": "code",
   "execution_count": null,
   "id": "8fe021fe-459c-40f3-aaf0-173ea8c96691",
   "metadata": {},
   "outputs": [],
   "source": []
  },
  {
   "cell_type": "code",
   "execution_count": null,
   "id": "38d8de2a-6970-4b18-aecd-62b00187551d",
   "metadata": {},
   "outputs": [],
   "source": []
  }
 ],
 "metadata": {
  "kernelspec": {
   "display_name": "Python 3 (ipykernel)",
   "language": "python",
   "name": "python3"
  },
  "language_info": {
   "codemirror_mode": {
    "name": "ipython",
    "version": 3
   },
   "file_extension": ".py",
   "mimetype": "text/x-python",
   "name": "python",
   "nbconvert_exporter": "python",
   "pygments_lexer": "ipython3",
   "version": "3.11.7"
  }
 },
 "nbformat": 4,
 "nbformat_minor": 5
}
