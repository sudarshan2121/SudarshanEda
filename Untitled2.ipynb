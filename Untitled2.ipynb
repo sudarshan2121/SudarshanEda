{
 "cells": [
  {
   "cell_type": "code",
   "execution_count": 4,
   "id": "d30cf8f8-3c1b-4370-bc8c-c2788100903f",
   "metadata": {},
   "outputs": [],
   "source": [
    "import pandas as pd\n",
    "import numpy as np\n",
    "import matplotlib.pyplot as plt\n",
    "import seaborn as sns\n"
   ]
  },
  {
   "cell_type": "code",
   "execution_count": 5,
   "id": "3d0d64d6-719c-47ed-8d23-54d4df6610f9",
   "metadata": {},
   "outputs": [],
   "source": [
    "#read csv file"
   ]
  },
  {
   "cell_type": "code",
   "execution_count": 6,
   "id": "2793bcfa-9524-44e1-b95b-2d24d21b694a",
   "metadata": {},
   "outputs": [
    {
     "data": {
      "text/html": [
       "<div>\n",
       "<style scoped>\n",
       "    .dataframe tbody tr th:only-of-type {\n",
       "        vertical-align: middle;\n",
       "    }\n",
       "\n",
       "    .dataframe tbody tr th {\n",
       "        vertical-align: top;\n",
       "    }\n",
       "\n",
       "    .dataframe thead th {\n",
       "        text-align: right;\n",
       "    }\n",
       "</style>\n",
       "<table border=\"1\" class=\"dataframe\">\n",
       "  <thead>\n",
       "    <tr style=\"text-align: right;\">\n",
       "      <th></th>\n",
       "      <th>case_id</th>\n",
       "      <th>continent</th>\n",
       "      <th>education_of_employee</th>\n",
       "      <th>has_job_experience</th>\n",
       "      <th>requires_job_training</th>\n",
       "      <th>no_of_employees</th>\n",
       "      <th>yr_of_estab</th>\n",
       "      <th>region_of_employment</th>\n",
       "      <th>prevailing_wage</th>\n",
       "      <th>unit_of_wage</th>\n",
       "      <th>full_time_position</th>\n",
       "      <th>case_status</th>\n",
       "    </tr>\n",
       "  </thead>\n",
       "  <tbody>\n",
       "    <tr>\n",
       "      <th>0</th>\n",
       "      <td>EZYV01</td>\n",
       "      <td>Asia</td>\n",
       "      <td>High School</td>\n",
       "      <td>N</td>\n",
       "      <td>N</td>\n",
       "      <td>14513</td>\n",
       "      <td>2007</td>\n",
       "      <td>West</td>\n",
       "      <td>592.2029</td>\n",
       "      <td>Hour</td>\n",
       "      <td>Y</td>\n",
       "      <td>Denied</td>\n",
       "    </tr>\n",
       "    <tr>\n",
       "      <th>1</th>\n",
       "      <td>EZYV02</td>\n",
       "      <td>Asia</td>\n",
       "      <td>Master's</td>\n",
       "      <td>Y</td>\n",
       "      <td>N</td>\n",
       "      <td>2412</td>\n",
       "      <td>2002</td>\n",
       "      <td>Northeast</td>\n",
       "      <td>83425.6500</td>\n",
       "      <td>Year</td>\n",
       "      <td>Y</td>\n",
       "      <td>Certified</td>\n",
       "    </tr>\n",
       "    <tr>\n",
       "      <th>2</th>\n",
       "      <td>EZYV03</td>\n",
       "      <td>Asia</td>\n",
       "      <td>Bachelor's</td>\n",
       "      <td>N</td>\n",
       "      <td>Y</td>\n",
       "      <td>44444</td>\n",
       "      <td>2008</td>\n",
       "      <td>West</td>\n",
       "      <td>122996.8600</td>\n",
       "      <td>Year</td>\n",
       "      <td>Y</td>\n",
       "      <td>Denied</td>\n",
       "    </tr>\n",
       "    <tr>\n",
       "      <th>3</th>\n",
       "      <td>EZYV04</td>\n",
       "      <td>Asia</td>\n",
       "      <td>Bachelor's</td>\n",
       "      <td>N</td>\n",
       "      <td>N</td>\n",
       "      <td>98</td>\n",
       "      <td>1897</td>\n",
       "      <td>West</td>\n",
       "      <td>83434.0300</td>\n",
       "      <td>Year</td>\n",
       "      <td>Y</td>\n",
       "      <td>Denied</td>\n",
       "    </tr>\n",
       "    <tr>\n",
       "      <th>4</th>\n",
       "      <td>EZYV05</td>\n",
       "      <td>Africa</td>\n",
       "      <td>Master's</td>\n",
       "      <td>Y</td>\n",
       "      <td>N</td>\n",
       "      <td>1082</td>\n",
       "      <td>2005</td>\n",
       "      <td>South</td>\n",
       "      <td>149907.3900</td>\n",
       "      <td>Year</td>\n",
       "      <td>Y</td>\n",
       "      <td>Certified</td>\n",
       "    </tr>\n",
       "    <tr>\n",
       "      <th>...</th>\n",
       "      <td>...</td>\n",
       "      <td>...</td>\n",
       "      <td>...</td>\n",
       "      <td>...</td>\n",
       "      <td>...</td>\n",
       "      <td>...</td>\n",
       "      <td>...</td>\n",
       "      <td>...</td>\n",
       "      <td>...</td>\n",
       "      <td>...</td>\n",
       "      <td>...</td>\n",
       "      <td>...</td>\n",
       "    </tr>\n",
       "    <tr>\n",
       "      <th>25475</th>\n",
       "      <td>EZYV25476</td>\n",
       "      <td>Asia</td>\n",
       "      <td>Bachelor's</td>\n",
       "      <td>Y</td>\n",
       "      <td>Y</td>\n",
       "      <td>2601</td>\n",
       "      <td>2008</td>\n",
       "      <td>South</td>\n",
       "      <td>77092.5700</td>\n",
       "      <td>Year</td>\n",
       "      <td>Y</td>\n",
       "      <td>Certified</td>\n",
       "    </tr>\n",
       "    <tr>\n",
       "      <th>25476</th>\n",
       "      <td>EZYV25477</td>\n",
       "      <td>Asia</td>\n",
       "      <td>High School</td>\n",
       "      <td>Y</td>\n",
       "      <td>N</td>\n",
       "      <td>3274</td>\n",
       "      <td>2006</td>\n",
       "      <td>Northeast</td>\n",
       "      <td>279174.7900</td>\n",
       "      <td>Year</td>\n",
       "      <td>Y</td>\n",
       "      <td>Certified</td>\n",
       "    </tr>\n",
       "    <tr>\n",
       "      <th>25477</th>\n",
       "      <td>EZYV25478</td>\n",
       "      <td>Asia</td>\n",
       "      <td>Master's</td>\n",
       "      <td>Y</td>\n",
       "      <td>N</td>\n",
       "      <td>1121</td>\n",
       "      <td>1910</td>\n",
       "      <td>South</td>\n",
       "      <td>146298.8500</td>\n",
       "      <td>Year</td>\n",
       "      <td>N</td>\n",
       "      <td>Certified</td>\n",
       "    </tr>\n",
       "    <tr>\n",
       "      <th>25478</th>\n",
       "      <td>EZYV25479</td>\n",
       "      <td>Asia</td>\n",
       "      <td>Master's</td>\n",
       "      <td>Y</td>\n",
       "      <td>Y</td>\n",
       "      <td>1918</td>\n",
       "      <td>1887</td>\n",
       "      <td>West</td>\n",
       "      <td>86154.7700</td>\n",
       "      <td>Year</td>\n",
       "      <td>Y</td>\n",
       "      <td>Certified</td>\n",
       "    </tr>\n",
       "    <tr>\n",
       "      <th>25479</th>\n",
       "      <td>EZYV25480</td>\n",
       "      <td>Asia</td>\n",
       "      <td>Bachelor's</td>\n",
       "      <td>Y</td>\n",
       "      <td>N</td>\n",
       "      <td>3195</td>\n",
       "      <td>1960</td>\n",
       "      <td>Midwest</td>\n",
       "      <td>70876.9100</td>\n",
       "      <td>Year</td>\n",
       "      <td>Y</td>\n",
       "      <td>Certified</td>\n",
       "    </tr>\n",
       "  </tbody>\n",
       "</table>\n",
       "<p>25480 rows × 12 columns</p>\n",
       "</div>"
      ],
      "text/plain": [
       "         case_id continent education_of_employee has_job_experience  \\\n",
       "0         EZYV01      Asia           High School                  N   \n",
       "1         EZYV02      Asia              Master's                  Y   \n",
       "2         EZYV03      Asia            Bachelor's                  N   \n",
       "3         EZYV04      Asia            Bachelor's                  N   \n",
       "4         EZYV05    Africa              Master's                  Y   \n",
       "...          ...       ...                   ...                ...   \n",
       "25475  EZYV25476      Asia            Bachelor's                  Y   \n",
       "25476  EZYV25477      Asia           High School                  Y   \n",
       "25477  EZYV25478      Asia              Master's                  Y   \n",
       "25478  EZYV25479      Asia              Master's                  Y   \n",
       "25479  EZYV25480      Asia            Bachelor's                  Y   \n",
       "\n",
       "      requires_job_training  no_of_employees  yr_of_estab  \\\n",
       "0                         N            14513         2007   \n",
       "1                         N             2412         2002   \n",
       "2                         Y            44444         2008   \n",
       "3                         N               98         1897   \n",
       "4                         N             1082         2005   \n",
       "...                     ...              ...          ...   \n",
       "25475                     Y             2601         2008   \n",
       "25476                     N             3274         2006   \n",
       "25477                     N             1121         1910   \n",
       "25478                     Y             1918         1887   \n",
       "25479                     N             3195         1960   \n",
       "\n",
       "      region_of_employment  prevailing_wage unit_of_wage full_time_position  \\\n",
       "0                     West         592.2029         Hour                  Y   \n",
       "1                Northeast       83425.6500         Year                  Y   \n",
       "2                     West      122996.8600         Year                  Y   \n",
       "3                     West       83434.0300         Year                  Y   \n",
       "4                    South      149907.3900         Year                  Y   \n",
       "...                    ...              ...          ...                ...   \n",
       "25475                South       77092.5700         Year                  Y   \n",
       "25476            Northeast      279174.7900         Year                  Y   \n",
       "25477                South      146298.8500         Year                  N   \n",
       "25478                 West       86154.7700         Year                  Y   \n",
       "25479              Midwest       70876.9100         Year                  Y   \n",
       "\n",
       "      case_status  \n",
       "0          Denied  \n",
       "1       Certified  \n",
       "2          Denied  \n",
       "3          Denied  \n",
       "4       Certified  \n",
       "...           ...  \n",
       "25475   Certified  \n",
       "25476   Certified  \n",
       "25477   Certified  \n",
       "25478   Certified  \n",
       "25479   Certified  \n",
       "\n",
       "[25480 rows x 12 columns]"
      ]
     },
     "execution_count": 6,
     "metadata": {},
     "output_type": "execute_result"
    }
   ],
   "source": [
    "visa_df=pd.read_csv('Visadataset.csv')\n",
    "visa_df"
   ]
  },
  {
   "cell_type": "code",
   "execution_count": 7,
   "id": "a23f7969-0a0e-4f13-90f2-da7ec6523959",
   "metadata": {},
   "outputs": [
    {
     "data": {
      "text/html": [
       "<div>\n",
       "<style scoped>\n",
       "    .dataframe tbody tr th:only-of-type {\n",
       "        vertical-align: middle;\n",
       "    }\n",
       "\n",
       "    .dataframe tbody tr th {\n",
       "        vertical-align: top;\n",
       "    }\n",
       "\n",
       "    .dataframe thead th {\n",
       "        text-align: right;\n",
       "    }\n",
       "</style>\n",
       "<table border=\"1\" class=\"dataframe\">\n",
       "  <thead>\n",
       "    <tr style=\"text-align: right;\">\n",
       "      <th></th>\n",
       "      <th>case_id</th>\n",
       "      <th>continent</th>\n",
       "      <th>education_of_employee</th>\n",
       "      <th>has_job_experience</th>\n",
       "      <th>requires_job_training</th>\n",
       "      <th>no_of_employees</th>\n",
       "      <th>yr_of_estab</th>\n",
       "      <th>region_of_employment</th>\n",
       "      <th>prevailing_wage</th>\n",
       "      <th>unit_of_wage</th>\n",
       "      <th>full_time_position</th>\n",
       "      <th>case_status</th>\n",
       "    </tr>\n",
       "  </thead>\n",
       "  <tbody>\n",
       "    <tr>\n",
       "      <th>0</th>\n",
       "      <td>EZYV01</td>\n",
       "      <td>Asia</td>\n",
       "      <td>High School</td>\n",
       "      <td>N</td>\n",
       "      <td>N</td>\n",
       "      <td>14513</td>\n",
       "      <td>2007</td>\n",
       "      <td>West</td>\n",
       "      <td>592.2029</td>\n",
       "      <td>Hour</td>\n",
       "      <td>Y</td>\n",
       "      <td>Denied</td>\n",
       "    </tr>\n",
       "    <tr>\n",
       "      <th>1</th>\n",
       "      <td>EZYV02</td>\n",
       "      <td>Asia</td>\n",
       "      <td>Master's</td>\n",
       "      <td>Y</td>\n",
       "      <td>N</td>\n",
       "      <td>2412</td>\n",
       "      <td>2002</td>\n",
       "      <td>Northeast</td>\n",
       "      <td>83425.6500</td>\n",
       "      <td>Year</td>\n",
       "      <td>Y</td>\n",
       "      <td>Certified</td>\n",
       "    </tr>\n",
       "    <tr>\n",
       "      <th>2</th>\n",
       "      <td>EZYV03</td>\n",
       "      <td>Asia</td>\n",
       "      <td>Bachelor's</td>\n",
       "      <td>N</td>\n",
       "      <td>Y</td>\n",
       "      <td>44444</td>\n",
       "      <td>2008</td>\n",
       "      <td>West</td>\n",
       "      <td>122996.8600</td>\n",
       "      <td>Year</td>\n",
       "      <td>Y</td>\n",
       "      <td>Denied</td>\n",
       "    </tr>\n",
       "    <tr>\n",
       "      <th>3</th>\n",
       "      <td>EZYV04</td>\n",
       "      <td>Asia</td>\n",
       "      <td>Bachelor's</td>\n",
       "      <td>N</td>\n",
       "      <td>N</td>\n",
       "      <td>98</td>\n",
       "      <td>1897</td>\n",
       "      <td>West</td>\n",
       "      <td>83434.0300</td>\n",
       "      <td>Year</td>\n",
       "      <td>Y</td>\n",
       "      <td>Denied</td>\n",
       "    </tr>\n",
       "    <tr>\n",
       "      <th>4</th>\n",
       "      <td>EZYV05</td>\n",
       "      <td>Africa</td>\n",
       "      <td>Master's</td>\n",
       "      <td>Y</td>\n",
       "      <td>N</td>\n",
       "      <td>1082</td>\n",
       "      <td>2005</td>\n",
       "      <td>South</td>\n",
       "      <td>149907.3900</td>\n",
       "      <td>Year</td>\n",
       "      <td>Y</td>\n",
       "      <td>Certified</td>\n",
       "    </tr>\n",
       "  </tbody>\n",
       "</table>\n",
       "</div>"
      ],
      "text/plain": [
       "  case_id continent education_of_employee has_job_experience  \\\n",
       "0  EZYV01      Asia           High School                  N   \n",
       "1  EZYV02      Asia              Master's                  Y   \n",
       "2  EZYV03      Asia            Bachelor's                  N   \n",
       "3  EZYV04      Asia            Bachelor's                  N   \n",
       "4  EZYV05    Africa              Master's                  Y   \n",
       "\n",
       "  requires_job_training  no_of_employees  yr_of_estab region_of_employment  \\\n",
       "0                     N            14513         2007                 West   \n",
       "1                     N             2412         2002            Northeast   \n",
       "2                     Y            44444         2008                 West   \n",
       "3                     N               98         1897                 West   \n",
       "4                     N             1082         2005                South   \n",
       "\n",
       "   prevailing_wage unit_of_wage full_time_position case_status  \n",
       "0         592.2029         Hour                  Y      Denied  \n",
       "1       83425.6500         Year                  Y   Certified  \n",
       "2      122996.8600         Year                  Y      Denied  \n",
       "3       83434.0300         Year                  Y      Denied  \n",
       "4      149907.3900         Year                  Y   Certified  "
      ]
     },
     "execution_count": 7,
     "metadata": {},
     "output_type": "execute_result"
    }
   ],
   "source": [
    "visa_df.head()"
   ]
  },
  {
   "cell_type": "code",
   "execution_count": 8,
   "id": "27b6578e-4275-4c1a-adba-aef0f91bf19c",
   "metadata": {},
   "outputs": [
    {
     "data": {
      "text/html": [
       "<div>\n",
       "<style scoped>\n",
       "    .dataframe tbody tr th:only-of-type {\n",
       "        vertical-align: middle;\n",
       "    }\n",
       "\n",
       "    .dataframe tbody tr th {\n",
       "        vertical-align: top;\n",
       "    }\n",
       "\n",
       "    .dataframe thead th {\n",
       "        text-align: right;\n",
       "    }\n",
       "</style>\n",
       "<table border=\"1\" class=\"dataframe\">\n",
       "  <thead>\n",
       "    <tr style=\"text-align: right;\">\n",
       "      <th></th>\n",
       "      <th>case_id</th>\n",
       "      <th>continent</th>\n",
       "      <th>education_of_employee</th>\n",
       "      <th>has_job_experience</th>\n",
       "      <th>requires_job_training</th>\n",
       "      <th>no_of_employees</th>\n",
       "      <th>yr_of_estab</th>\n",
       "      <th>region_of_employment</th>\n",
       "      <th>prevailing_wage</th>\n",
       "      <th>unit_of_wage</th>\n",
       "      <th>full_time_position</th>\n",
       "      <th>case_status</th>\n",
       "    </tr>\n",
       "  </thead>\n",
       "  <tbody>\n",
       "    <tr>\n",
       "      <th>25475</th>\n",
       "      <td>EZYV25476</td>\n",
       "      <td>Asia</td>\n",
       "      <td>Bachelor's</td>\n",
       "      <td>Y</td>\n",
       "      <td>Y</td>\n",
       "      <td>2601</td>\n",
       "      <td>2008</td>\n",
       "      <td>South</td>\n",
       "      <td>77092.57</td>\n",
       "      <td>Year</td>\n",
       "      <td>Y</td>\n",
       "      <td>Certified</td>\n",
       "    </tr>\n",
       "    <tr>\n",
       "      <th>25476</th>\n",
       "      <td>EZYV25477</td>\n",
       "      <td>Asia</td>\n",
       "      <td>High School</td>\n",
       "      <td>Y</td>\n",
       "      <td>N</td>\n",
       "      <td>3274</td>\n",
       "      <td>2006</td>\n",
       "      <td>Northeast</td>\n",
       "      <td>279174.79</td>\n",
       "      <td>Year</td>\n",
       "      <td>Y</td>\n",
       "      <td>Certified</td>\n",
       "    </tr>\n",
       "    <tr>\n",
       "      <th>25477</th>\n",
       "      <td>EZYV25478</td>\n",
       "      <td>Asia</td>\n",
       "      <td>Master's</td>\n",
       "      <td>Y</td>\n",
       "      <td>N</td>\n",
       "      <td>1121</td>\n",
       "      <td>1910</td>\n",
       "      <td>South</td>\n",
       "      <td>146298.85</td>\n",
       "      <td>Year</td>\n",
       "      <td>N</td>\n",
       "      <td>Certified</td>\n",
       "    </tr>\n",
       "    <tr>\n",
       "      <th>25478</th>\n",
       "      <td>EZYV25479</td>\n",
       "      <td>Asia</td>\n",
       "      <td>Master's</td>\n",
       "      <td>Y</td>\n",
       "      <td>Y</td>\n",
       "      <td>1918</td>\n",
       "      <td>1887</td>\n",
       "      <td>West</td>\n",
       "      <td>86154.77</td>\n",
       "      <td>Year</td>\n",
       "      <td>Y</td>\n",
       "      <td>Certified</td>\n",
       "    </tr>\n",
       "    <tr>\n",
       "      <th>25479</th>\n",
       "      <td>EZYV25480</td>\n",
       "      <td>Asia</td>\n",
       "      <td>Bachelor's</td>\n",
       "      <td>Y</td>\n",
       "      <td>N</td>\n",
       "      <td>3195</td>\n",
       "      <td>1960</td>\n",
       "      <td>Midwest</td>\n",
       "      <td>70876.91</td>\n",
       "      <td>Year</td>\n",
       "      <td>Y</td>\n",
       "      <td>Certified</td>\n",
       "    </tr>\n",
       "  </tbody>\n",
       "</table>\n",
       "</div>"
      ],
      "text/plain": [
       "         case_id continent education_of_employee has_job_experience  \\\n",
       "25475  EZYV25476      Asia            Bachelor's                  Y   \n",
       "25476  EZYV25477      Asia           High School                  Y   \n",
       "25477  EZYV25478      Asia              Master's                  Y   \n",
       "25478  EZYV25479      Asia              Master's                  Y   \n",
       "25479  EZYV25480      Asia            Bachelor's                  Y   \n",
       "\n",
       "      requires_job_training  no_of_employees  yr_of_estab  \\\n",
       "25475                     Y             2601         2008   \n",
       "25476                     N             3274         2006   \n",
       "25477                     N             1121         1910   \n",
       "25478                     Y             1918         1887   \n",
       "25479                     N             3195         1960   \n",
       "\n",
       "      region_of_employment  prevailing_wage unit_of_wage full_time_position  \\\n",
       "25475                South         77092.57         Year                  Y   \n",
       "25476            Northeast        279174.79         Year                  Y   \n",
       "25477                South        146298.85         Year                  N   \n",
       "25478                 West         86154.77         Year                  Y   \n",
       "25479              Midwest         70876.91         Year                  Y   \n",
       "\n",
       "      case_status  \n",
       "25475   Certified  \n",
       "25476   Certified  \n",
       "25477   Certified  \n",
       "25478   Certified  \n",
       "25479   Certified  "
      ]
     },
     "execution_count": 8,
     "metadata": {},
     "output_type": "execute_result"
    }
   ],
   "source": [
    "visa_df.tail()"
   ]
  },
  {
   "cell_type": "code",
   "execution_count": 9,
   "id": "b57938c6-f5f0-4dff-b150-9f04790f1471",
   "metadata": {},
   "outputs": [
    {
     "data": {
      "text/plain": [
       "(25480, 12)"
      ]
     },
     "execution_count": 9,
     "metadata": {},
     "output_type": "execute_result"
    }
   ],
   "source": [
    "visa_df.shape"
   ]
  },
  {
   "cell_type": "code",
   "execution_count": 10,
   "id": "6c2d9df3-fc6a-4dfe-a102-94777589b31f",
   "metadata": {},
   "outputs": [
    {
     "data": {
      "text/plain": [
       "305760"
      ]
     },
     "execution_count": 10,
     "metadata": {},
     "output_type": "execute_result"
    }
   ],
   "source": [
    "visa_df.size"
   ]
  },
  {
   "cell_type": "code",
   "execution_count": 11,
   "id": "960d4412-d6a8-4e19-b627-f892288b24f4",
   "metadata": {},
   "outputs": [
    {
     "data": {
      "text/plain": [
       "case_id                  25480\n",
       "continent                25480\n",
       "education_of_employee    25480\n",
       "has_job_experience       25480\n",
       "requires_job_training    25480\n",
       "no_of_employees          25480\n",
       "yr_of_estab              25480\n",
       "region_of_employment     25480\n",
       "prevailing_wage          25480\n",
       "unit_of_wage             25480\n",
       "full_time_position       25480\n",
       "case_status              25480\n",
       "dtype: int64"
      ]
     },
     "execution_count": 11,
     "metadata": {},
     "output_type": "execute_result"
    }
   ],
   "source": [
    "visa_df.notnull().sum()"
   ]
  },
  {
   "cell_type": "code",
   "execution_count": 12,
   "id": "6d7db2f9-d04d-480e-8d9e-c9f0898183c6",
   "metadata": {},
   "outputs": [
    {
     "data": {
      "text/plain": [
       "Index(['case_id', 'continent', 'education_of_employee', 'has_job_experience',\n",
       "       'requires_job_training', 'no_of_employees', 'yr_of_estab',\n",
       "       'region_of_employment', 'prevailing_wage', 'unit_of_wage',\n",
       "       'full_time_position', 'case_status'],\n",
       "      dtype='object')"
      ]
     },
     "execution_count": 12,
     "metadata": {},
     "output_type": "execute_result"
    }
   ],
   "source": [
    "visa_df.columns"
   ]
  },
  {
   "cell_type": "code",
   "execution_count": 13,
   "id": "27dfa2eb-ca0a-4e5f-a47e-b5b9f3188663",
   "metadata": {},
   "outputs": [
    {
     "data": {
      "text/plain": [
       "case_id                   object\n",
       "continent                 object\n",
       "education_of_employee     object\n",
       "has_job_experience        object\n",
       "requires_job_training     object\n",
       "no_of_employees            int64\n",
       "yr_of_estab                int64\n",
       "region_of_employment      object\n",
       "prevailing_wage          float64\n",
       "unit_of_wage              object\n",
       "full_time_position        object\n",
       "case_status               object\n",
       "dtype: object"
      ]
     },
     "execution_count": 13,
     "metadata": {},
     "output_type": "execute_result"
    }
   ],
   "source": [
    "visa_df.dtypes"
   ]
  },
  {
   "cell_type": "code",
   "execution_count": 14,
   "id": "193a3920-b7a4-4e38-a726-e02665e282cf",
   "metadata": {},
   "outputs": [
    {
     "data": {
      "text/plain": [
       "0        False\n",
       "1        False\n",
       "2        False\n",
       "3        False\n",
       "4        False\n",
       "         ...  \n",
       "25475    False\n",
       "25476    False\n",
       "25477    False\n",
       "25478    False\n",
       "25479    False\n",
       "Length: 25480, dtype: bool"
      ]
     },
     "execution_count": 14,
     "metadata": {},
     "output_type": "execute_result"
    }
   ],
   "source": [
    "visa_df.duplicated()"
   ]
  },
  {
   "cell_type": "code",
   "execution_count": 15,
   "id": "5ef5315f-3461-440b-9ba6-be6a0dcce8c4",
   "metadata": {},
   "outputs": [
    {
     "data": {
      "text/html": [
       "<div>\n",
       "<style scoped>\n",
       "    .dataframe tbody tr th:only-of-type {\n",
       "        vertical-align: middle;\n",
       "    }\n",
       "\n",
       "    .dataframe tbody tr th {\n",
       "        vertical-align: top;\n",
       "    }\n",
       "\n",
       "    .dataframe thead th {\n",
       "        text-align: right;\n",
       "    }\n",
       "</style>\n",
       "<table border=\"1\" class=\"dataframe\">\n",
       "  <thead>\n",
       "    <tr style=\"text-align: right;\">\n",
       "      <th></th>\n",
       "      <th>case_id</th>\n",
       "      <th>continent</th>\n",
       "      <th>education_of_employee</th>\n",
       "      <th>has_job_experience</th>\n",
       "      <th>requires_job_training</th>\n",
       "      <th>no_of_employees</th>\n",
       "      <th>yr_of_estab</th>\n",
       "      <th>region_of_employment</th>\n",
       "      <th>prevailing_wage</th>\n",
       "      <th>unit_of_wage</th>\n",
       "      <th>full_time_position</th>\n",
       "      <th>case_status</th>\n",
       "    </tr>\n",
       "  </thead>\n",
       "  <tbody>\n",
       "    <tr>\n",
       "      <th>0</th>\n",
       "      <td>EZYV01</td>\n",
       "      <td>Asia</td>\n",
       "      <td>High School</td>\n",
       "      <td>N</td>\n",
       "      <td>N</td>\n",
       "      <td>14513</td>\n",
       "      <td>2007</td>\n",
       "      <td>West</td>\n",
       "      <td>592.2029</td>\n",
       "      <td>Hour</td>\n",
       "      <td>Y</td>\n",
       "      <td>Denied</td>\n",
       "    </tr>\n",
       "    <tr>\n",
       "      <th>1</th>\n",
       "      <td>EZYV02</td>\n",
       "      <td>Asia</td>\n",
       "      <td>Master's</td>\n",
       "      <td>Y</td>\n",
       "      <td>N</td>\n",
       "      <td>2412</td>\n",
       "      <td>2002</td>\n",
       "      <td>Northeast</td>\n",
       "      <td>83425.6500</td>\n",
       "      <td>Year</td>\n",
       "      <td>Y</td>\n",
       "      <td>Certified</td>\n",
       "    </tr>\n",
       "    <tr>\n",
       "      <th>2</th>\n",
       "      <td>EZYV03</td>\n",
       "      <td>Asia</td>\n",
       "      <td>Bachelor's</td>\n",
       "      <td>N</td>\n",
       "      <td>Y</td>\n",
       "      <td>44444</td>\n",
       "      <td>2008</td>\n",
       "      <td>West</td>\n",
       "      <td>122996.8600</td>\n",
       "      <td>Year</td>\n",
       "      <td>Y</td>\n",
       "      <td>Denied</td>\n",
       "    </tr>\n",
       "    <tr>\n",
       "      <th>3</th>\n",
       "      <td>EZYV04</td>\n",
       "      <td>Asia</td>\n",
       "      <td>Bachelor's</td>\n",
       "      <td>N</td>\n",
       "      <td>N</td>\n",
       "      <td>98</td>\n",
       "      <td>1897</td>\n",
       "      <td>West</td>\n",
       "      <td>83434.0300</td>\n",
       "      <td>Year</td>\n",
       "      <td>Y</td>\n",
       "      <td>Denied</td>\n",
       "    </tr>\n",
       "    <tr>\n",
       "      <th>4</th>\n",
       "      <td>EZYV05</td>\n",
       "      <td>Africa</td>\n",
       "      <td>Master's</td>\n",
       "      <td>Y</td>\n",
       "      <td>N</td>\n",
       "      <td>1082</td>\n",
       "      <td>2005</td>\n",
       "      <td>South</td>\n",
       "      <td>149907.3900</td>\n",
       "      <td>Year</td>\n",
       "      <td>Y</td>\n",
       "      <td>Certified</td>\n",
       "    </tr>\n",
       "    <tr>\n",
       "      <th>...</th>\n",
       "      <td>...</td>\n",
       "      <td>...</td>\n",
       "      <td>...</td>\n",
       "      <td>...</td>\n",
       "      <td>...</td>\n",
       "      <td>...</td>\n",
       "      <td>...</td>\n",
       "      <td>...</td>\n",
       "      <td>...</td>\n",
       "      <td>...</td>\n",
       "      <td>...</td>\n",
       "      <td>...</td>\n",
       "    </tr>\n",
       "    <tr>\n",
       "      <th>25475</th>\n",
       "      <td>EZYV25476</td>\n",
       "      <td>Asia</td>\n",
       "      <td>Bachelor's</td>\n",
       "      <td>Y</td>\n",
       "      <td>Y</td>\n",
       "      <td>2601</td>\n",
       "      <td>2008</td>\n",
       "      <td>South</td>\n",
       "      <td>77092.5700</td>\n",
       "      <td>Year</td>\n",
       "      <td>Y</td>\n",
       "      <td>Certified</td>\n",
       "    </tr>\n",
       "    <tr>\n",
       "      <th>25476</th>\n",
       "      <td>EZYV25477</td>\n",
       "      <td>Asia</td>\n",
       "      <td>High School</td>\n",
       "      <td>Y</td>\n",
       "      <td>N</td>\n",
       "      <td>3274</td>\n",
       "      <td>2006</td>\n",
       "      <td>Northeast</td>\n",
       "      <td>279174.7900</td>\n",
       "      <td>Year</td>\n",
       "      <td>Y</td>\n",
       "      <td>Certified</td>\n",
       "    </tr>\n",
       "    <tr>\n",
       "      <th>25477</th>\n",
       "      <td>EZYV25478</td>\n",
       "      <td>Asia</td>\n",
       "      <td>Master's</td>\n",
       "      <td>Y</td>\n",
       "      <td>N</td>\n",
       "      <td>1121</td>\n",
       "      <td>1910</td>\n",
       "      <td>South</td>\n",
       "      <td>146298.8500</td>\n",
       "      <td>Year</td>\n",
       "      <td>N</td>\n",
       "      <td>Certified</td>\n",
       "    </tr>\n",
       "    <tr>\n",
       "      <th>25478</th>\n",
       "      <td>EZYV25479</td>\n",
       "      <td>Asia</td>\n",
       "      <td>Master's</td>\n",
       "      <td>Y</td>\n",
       "      <td>Y</td>\n",
       "      <td>1918</td>\n",
       "      <td>1887</td>\n",
       "      <td>West</td>\n",
       "      <td>86154.7700</td>\n",
       "      <td>Year</td>\n",
       "      <td>Y</td>\n",
       "      <td>Certified</td>\n",
       "    </tr>\n",
       "    <tr>\n",
       "      <th>25479</th>\n",
       "      <td>EZYV25480</td>\n",
       "      <td>Asia</td>\n",
       "      <td>Bachelor's</td>\n",
       "      <td>Y</td>\n",
       "      <td>N</td>\n",
       "      <td>3195</td>\n",
       "      <td>1960</td>\n",
       "      <td>Midwest</td>\n",
       "      <td>70876.9100</td>\n",
       "      <td>Year</td>\n",
       "      <td>Y</td>\n",
       "      <td>Certified</td>\n",
       "    </tr>\n",
       "  </tbody>\n",
       "</table>\n",
       "<p>25480 rows × 12 columns</p>\n",
       "</div>"
      ],
      "text/plain": [
       "         case_id continent education_of_employee has_job_experience  \\\n",
       "0         EZYV01      Asia           High School                  N   \n",
       "1         EZYV02      Asia              Master's                  Y   \n",
       "2         EZYV03      Asia            Bachelor's                  N   \n",
       "3         EZYV04      Asia            Bachelor's                  N   \n",
       "4         EZYV05    Africa              Master's                  Y   \n",
       "...          ...       ...                   ...                ...   \n",
       "25475  EZYV25476      Asia            Bachelor's                  Y   \n",
       "25476  EZYV25477      Asia           High School                  Y   \n",
       "25477  EZYV25478      Asia              Master's                  Y   \n",
       "25478  EZYV25479      Asia              Master's                  Y   \n",
       "25479  EZYV25480      Asia            Bachelor's                  Y   \n",
       "\n",
       "      requires_job_training  no_of_employees  yr_of_estab  \\\n",
       "0                         N            14513         2007   \n",
       "1                         N             2412         2002   \n",
       "2                         Y            44444         2008   \n",
       "3                         N               98         1897   \n",
       "4                         N             1082         2005   \n",
       "...                     ...              ...          ...   \n",
       "25475                     Y             2601         2008   \n",
       "25476                     N             3274         2006   \n",
       "25477                     N             1121         1910   \n",
       "25478                     Y             1918         1887   \n",
       "25479                     N             3195         1960   \n",
       "\n",
       "      region_of_employment  prevailing_wage unit_of_wage full_time_position  \\\n",
       "0                     West         592.2029         Hour                  Y   \n",
       "1                Northeast       83425.6500         Year                  Y   \n",
       "2                     West      122996.8600         Year                  Y   \n",
       "3                     West       83434.0300         Year                  Y   \n",
       "4                    South      149907.3900         Year                  Y   \n",
       "...                    ...              ...          ...                ...   \n",
       "25475                South       77092.5700         Year                  Y   \n",
       "25476            Northeast      279174.7900         Year                  Y   \n",
       "25477                South      146298.8500         Year                  N   \n",
       "25478                 West       86154.7700         Year                  Y   \n",
       "25479              Midwest       70876.9100         Year                  Y   \n",
       "\n",
       "      case_status  \n",
       "0          Denied  \n",
       "1       Certified  \n",
       "2          Denied  \n",
       "3          Denied  \n",
       "4       Certified  \n",
       "...           ...  \n",
       "25475   Certified  \n",
       "25476   Certified  \n",
       "25477   Certified  \n",
       "25478   Certified  \n",
       "25479   Certified  \n",
       "\n",
       "[25480 rows x 12 columns]"
      ]
     },
     "execution_count": 15,
     "metadata": {},
     "output_type": "execute_result"
    }
   ],
   "source": [
    "visa_df.drop_duplicates()"
   ]
  },
  {
   "cell_type": "code",
   "execution_count": 16,
   "id": "7999cdc0-f014-415a-9a0e-6e97687693a3",
   "metadata": {},
   "outputs": [
    {
     "data": {
      "text/html": [
       "<div>\n",
       "<style scoped>\n",
       "    .dataframe tbody tr th:only-of-type {\n",
       "        vertical-align: middle;\n",
       "    }\n",
       "\n",
       "    .dataframe tbody tr th {\n",
       "        vertical-align: top;\n",
       "    }\n",
       "\n",
       "    .dataframe thead th {\n",
       "        text-align: right;\n",
       "    }\n",
       "</style>\n",
       "<table border=\"1\" class=\"dataframe\">\n",
       "  <thead>\n",
       "    <tr style=\"text-align: right;\">\n",
       "      <th></th>\n",
       "      <th>no_of_employees</th>\n",
       "      <th>yr_of_estab</th>\n",
       "      <th>prevailing_wage</th>\n",
       "    </tr>\n",
       "  </thead>\n",
       "  <tbody>\n",
       "    <tr>\n",
       "      <th>count</th>\n",
       "      <td>25480.000000</td>\n",
       "      <td>25480.000000</td>\n",
       "      <td>25480.000000</td>\n",
       "    </tr>\n",
       "    <tr>\n",
       "      <th>mean</th>\n",
       "      <td>5667.043210</td>\n",
       "      <td>1979.409929</td>\n",
       "      <td>74455.814592</td>\n",
       "    </tr>\n",
       "    <tr>\n",
       "      <th>std</th>\n",
       "      <td>22877.928848</td>\n",
       "      <td>42.366929</td>\n",
       "      <td>52815.942327</td>\n",
       "    </tr>\n",
       "    <tr>\n",
       "      <th>min</th>\n",
       "      <td>-26.000000</td>\n",
       "      <td>1800.000000</td>\n",
       "      <td>2.136700</td>\n",
       "    </tr>\n",
       "    <tr>\n",
       "      <th>25%</th>\n",
       "      <td>1022.000000</td>\n",
       "      <td>1976.000000</td>\n",
       "      <td>34015.480000</td>\n",
       "    </tr>\n",
       "    <tr>\n",
       "      <th>50%</th>\n",
       "      <td>2109.000000</td>\n",
       "      <td>1997.000000</td>\n",
       "      <td>70308.210000</td>\n",
       "    </tr>\n",
       "    <tr>\n",
       "      <th>75%</th>\n",
       "      <td>3504.000000</td>\n",
       "      <td>2005.000000</td>\n",
       "      <td>107735.512500</td>\n",
       "    </tr>\n",
       "    <tr>\n",
       "      <th>max</th>\n",
       "      <td>602069.000000</td>\n",
       "      <td>2016.000000</td>\n",
       "      <td>319210.270000</td>\n",
       "    </tr>\n",
       "  </tbody>\n",
       "</table>\n",
       "</div>"
      ],
      "text/plain": [
       "       no_of_employees   yr_of_estab  prevailing_wage\n",
       "count     25480.000000  25480.000000     25480.000000\n",
       "mean       5667.043210   1979.409929     74455.814592\n",
       "std       22877.928848     42.366929     52815.942327\n",
       "min         -26.000000   1800.000000         2.136700\n",
       "25%        1022.000000   1976.000000     34015.480000\n",
       "50%        2109.000000   1997.000000     70308.210000\n",
       "75%        3504.000000   2005.000000    107735.512500\n",
       "max      602069.000000   2016.000000    319210.270000"
      ]
     },
     "execution_count": 16,
     "metadata": {},
     "output_type": "execute_result"
    }
   ],
   "source": [
    "visa_df.describe()"
   ]
  },
  {
   "cell_type": "code",
   "execution_count": 17,
   "id": "8096fcc4-ebc8-47bb-a8ba-14a87247da7e",
   "metadata": {},
   "outputs": [
    {
     "data": {
      "text/html": [
       "<div>\n",
       "<style scoped>\n",
       "    .dataframe tbody tr th:only-of-type {\n",
       "        vertical-align: middle;\n",
       "    }\n",
       "\n",
       "    .dataframe tbody tr th {\n",
       "        vertical-align: top;\n",
       "    }\n",
       "\n",
       "    .dataframe thead th {\n",
       "        text-align: right;\n",
       "    }\n",
       "</style>\n",
       "<table border=\"1\" class=\"dataframe\">\n",
       "  <thead>\n",
       "    <tr style=\"text-align: right;\">\n",
       "      <th></th>\n",
       "      <th>case_id</th>\n",
       "      <th>continent</th>\n",
       "      <th>education_of_employee</th>\n",
       "      <th>has_job_experience</th>\n",
       "      <th>requires_job_training</th>\n",
       "      <th>no_of_employees</th>\n",
       "      <th>yr_of_estab</th>\n",
       "      <th>region_of_employment</th>\n",
       "      <th>prevailing_wage</th>\n",
       "      <th>unit_of_wage</th>\n",
       "      <th>full_time_position</th>\n",
       "      <th>case_status</th>\n",
       "    </tr>\n",
       "  </thead>\n",
       "  <tbody>\n",
       "    <tr>\n",
       "      <th>0</th>\n",
       "      <td>EZYV01</td>\n",
       "      <td>Asia</td>\n",
       "      <td>High School</td>\n",
       "      <td>N</td>\n",
       "      <td>N</td>\n",
       "      <td>14513</td>\n",
       "      <td>2007</td>\n",
       "      <td>West</td>\n",
       "      <td>592.2029</td>\n",
       "      <td>Hour</td>\n",
       "      <td>Y</td>\n",
       "      <td>Denied</td>\n",
       "    </tr>\n",
       "  </tbody>\n",
       "</table>\n",
       "</div>"
      ],
      "text/plain": [
       "  case_id continent education_of_employee has_job_experience  \\\n",
       "0  EZYV01      Asia           High School                  N   \n",
       "\n",
       "  requires_job_training  no_of_employees  yr_of_estab region_of_employment  \\\n",
       "0                     N            14513         2007                 West   \n",
       "\n",
       "   prevailing_wage unit_of_wage full_time_position case_status  \n",
       "0         592.2029         Hour                  Y      Denied  "
      ]
     },
     "execution_count": 17,
     "metadata": {},
     "output_type": "execute_result"
    }
   ],
   "source": [
    "visa_df.iloc[[0]]"
   ]
  },
  {
   "cell_type": "code",
   "execution_count": 18,
   "id": "ea7f1aca-ce0f-45c8-b2fb-eb884182da42",
   "metadata": {},
   "outputs": [
    {
     "data": {
      "text/html": [
       "<div>\n",
       "<style scoped>\n",
       "    .dataframe tbody tr th:only-of-type {\n",
       "        vertical-align: middle;\n",
       "    }\n",
       "\n",
       "    .dataframe tbody tr th {\n",
       "        vertical-align: top;\n",
       "    }\n",
       "\n",
       "    .dataframe thead th {\n",
       "        text-align: right;\n",
       "    }\n",
       "</style>\n",
       "<table border=\"1\" class=\"dataframe\">\n",
       "  <thead>\n",
       "    <tr style=\"text-align: right;\">\n",
       "      <th></th>\n",
       "      <th>case_id</th>\n",
       "      <th>continent</th>\n",
       "      <th>education_of_employee</th>\n",
       "      <th>has_job_experience</th>\n",
       "      <th>requires_job_training</th>\n",
       "      <th>no_of_employees</th>\n",
       "      <th>yr_of_estab</th>\n",
       "      <th>region_of_employment</th>\n",
       "      <th>prevailing_wage</th>\n",
       "      <th>unit_of_wage</th>\n",
       "      <th>full_time_position</th>\n",
       "      <th>case_status</th>\n",
       "    </tr>\n",
       "  </thead>\n",
       "  <tbody>\n",
       "    <tr>\n",
       "      <th>6461</th>\n",
       "      <td>EZYV6462</td>\n",
       "      <td>Europe</td>\n",
       "      <td>Bachelor's</td>\n",
       "      <td>Y</td>\n",
       "      <td>N</td>\n",
       "      <td>1537</td>\n",
       "      <td>2005</td>\n",
       "      <td>Northeast</td>\n",
       "      <td>116210.89</td>\n",
       "      <td>Year</td>\n",
       "      <td>Y</td>\n",
       "      <td>Certified</td>\n",
       "    </tr>\n",
       "  </tbody>\n",
       "</table>\n",
       "</div>"
      ],
      "text/plain": [
       "       case_id continent education_of_employee has_job_experience  \\\n",
       "6461  EZYV6462    Europe            Bachelor's                  Y   \n",
       "\n",
       "     requires_job_training  no_of_employees  yr_of_estab region_of_employment  \\\n",
       "6461                     N             1537         2005            Northeast   \n",
       "\n",
       "      prevailing_wage unit_of_wage full_time_position case_status  \n",
       "6461        116210.89         Year                  Y   Certified  "
      ]
     },
     "execution_count": 18,
     "metadata": {},
     "output_type": "execute_result"
    }
   ],
   "source": [
    "visa_df.sample()\n"
   ]
  },
  {
   "cell_type": "code",
   "execution_count": 19,
   "id": "c5e194c4-ab4f-41be-9895-7bac3a28116f",
   "metadata": {},
   "outputs": [
    {
     "name": "stdout",
     "output_type": "stream",
     "text": [
      "<class 'pandas.core.frame.DataFrame'>\n",
      "RangeIndex: 25480 entries, 0 to 25479\n",
      "Data columns (total 12 columns):\n",
      " #   Column                 Non-Null Count  Dtype  \n",
      "---  ------                 --------------  -----  \n",
      " 0   case_id                25480 non-null  object \n",
      " 1   continent              25480 non-null  object \n",
      " 2   education_of_employee  25480 non-null  object \n",
      " 3   has_job_experience     25480 non-null  object \n",
      " 4   requires_job_training  25480 non-null  object \n",
      " 5   no_of_employees        25480 non-null  int64  \n",
      " 6   yr_of_estab            25480 non-null  int64  \n",
      " 7   region_of_employment   25480 non-null  object \n",
      " 8   prevailing_wage        25480 non-null  float64\n",
      " 9   unit_of_wage           25480 non-null  object \n",
      " 10  full_time_position     25480 non-null  object \n",
      " 11  case_status            25480 non-null  object \n",
      "dtypes: float64(1), int64(2), object(9)\n",
      "memory usage: 2.3+ MB\n"
     ]
    }
   ],
   "source": [
    "visa_df.info()"
   ]
  },
  {
   "cell_type": "code",
   "execution_count": 20,
   "id": "bd656716-0e8e-468d-bb50-26abad139005",
   "metadata": {},
   "outputs": [
    {
     "data": {
      "text/plain": [
       "0        Hour\n",
       "1        Year\n",
       "2        Year\n",
       "3        Year\n",
       "4        Year\n",
       "         ... \n",
       "25475    Year\n",
       "25476    Year\n",
       "25477    Year\n",
       "25478    Year\n",
       "25479    Year\n",
       "Name: unit_of_wage, Length: 25480, dtype: object"
      ]
     },
     "execution_count": 20,
     "metadata": {},
     "output_type": "execute_result"
    }
   ],
   "source": [
    "uow=visa_df['unit_of_wage']\n",
    "uow"
   ]
  },
  {
   "cell_type": "code",
   "execution_count": 21,
   "id": "725b9b97-7891-40a7-8a67-c65dbea9cde9",
   "metadata": {},
   "outputs": [
    {
     "data": {
      "text/plain": [
       "['Hour', 'Year', 'Week', 'Month']"
      ]
     },
     "execution_count": 21,
     "metadata": {},
     "output_type": "execute_result"
    }
   ],
   "source": [
    "# to check unique entiety\n",
    "unique=[]\n",
    "for i in uow:\n",
    "    if i not in unique:\n",
    "        unique.append(i)\n",
    "unique"
   ]
  },
  {
   "cell_type": "code",
   "execution_count": 22,
   "id": "d4bcadf6-b1ae-457f-a388-5da47a3fb6dc",
   "metadata": {},
   "outputs": [
    {
     "data": {
      "text/plain": [
       "array(['Hour', 'Year', 'Week', 'Month'], dtype=object)"
      ]
     },
     "execution_count": 22,
     "metadata": {},
     "output_type": "execute_result"
    }
   ],
   "source": [
    "visa_df['unit_of_wage'].unique() # unique is only applicable for serise"
   ]
  },
  {
   "cell_type": "code",
   "execution_count": 23,
   "id": "15f20a61-40f7-40b3-8a03-b903f355809f",
   "metadata": {},
   "outputs": [
    {
     "data": {
      "text/plain": [
       "4"
      ]
     },
     "execution_count": 23,
     "metadata": {},
     "output_type": "execute_result"
    }
   ],
   "source": [
    "len((visa_df.unit_of_wage).unique())"
   ]
  },
  {
   "cell_type": "code",
   "execution_count": 24,
   "id": "3d760c8b-15d3-43e4-8cf2-264a4693ad98",
   "metadata": {},
   "outputs": [
    {
     "data": {
      "text/plain": [
       "unit_of_wage\n",
       "Year     22962\n",
       "Hour      2157\n",
       "Week       272\n",
       "Month       89\n",
       "Name: count, dtype: int64"
      ]
     },
     "execution_count": 24,
     "metadata": {},
     "output_type": "execute_result"
    }
   ],
   "source": [
    "uows=visa_df['unit_of_wage'].value_counts() # It gives a series\n",
    "uows"
   ]
  },
  {
   "cell_type": "code",
   "execution_count": 25,
   "id": "d3e0cbf3-9eb8-4d3a-a172-fea50a075f6a",
   "metadata": {},
   "outputs": [
    {
     "data": {
      "text/plain": [
       "Index(['Year', 'Hour', 'Week', 'Month'], dtype='object', name='unit_of_wage')"
      ]
     },
     "execution_count": 25,
     "metadata": {},
     "output_type": "execute_result"
    }
   ],
   "source": [
    "keys=uows.keys()\n",
    "keys"
   ]
  },
  {
   "cell_type": "code",
   "execution_count": 26,
   "id": "bfb9d80a-b6f8-4a7c-ac73-02d10e0923d0",
   "metadata": {},
   "outputs": [
    {
     "data": {
      "text/plain": [
       "array([22962,  2157,   272,    89], dtype=int64)"
      ]
     },
     "execution_count": 26,
     "metadata": {},
     "output_type": "execute_result"
    }
   ],
   "source": [
    "values=uows.values\n",
    "values"
   ]
  },
  {
   "cell_type": "code",
   "execution_count": 27,
   "id": "f3dad0fc-3301-4619-be2d-64db16bb85e4",
   "metadata": {},
   "outputs": [
    {
     "data": {
      "text/html": [
       "<div>\n",
       "<style scoped>\n",
       "    .dataframe tbody tr th:only-of-type {\n",
       "        vertical-align: middle;\n",
       "    }\n",
       "\n",
       "    .dataframe tbody tr th {\n",
       "        vertical-align: top;\n",
       "    }\n",
       "\n",
       "    .dataframe thead th {\n",
       "        text-align: right;\n",
       "    }\n",
       "</style>\n",
       "<table border=\"1\" class=\"dataframe\">\n",
       "  <thead>\n",
       "    <tr style=\"text-align: right;\">\n",
       "      <th></th>\n",
       "      <th>Year</th>\n",
       "      <th>Count</th>\n",
       "    </tr>\n",
       "  </thead>\n",
       "  <tbody>\n",
       "    <tr>\n",
       "      <th>0</th>\n",
       "      <td>Year</td>\n",
       "      <td>22962</td>\n",
       "    </tr>\n",
       "    <tr>\n",
       "      <th>1</th>\n",
       "      <td>Hour</td>\n",
       "      <td>2157</td>\n",
       "    </tr>\n",
       "    <tr>\n",
       "      <th>2</th>\n",
       "      <td>Week</td>\n",
       "      <td>272</td>\n",
       "    </tr>\n",
       "    <tr>\n",
       "      <th>3</th>\n",
       "      <td>Month</td>\n",
       "      <td>89</td>\n",
       "    </tr>\n",
       "  </tbody>\n",
       "</table>\n",
       "</div>"
      ],
      "text/plain": [
       "    Year  Count\n",
       "0   Year  22962\n",
       "1   Hour   2157\n",
       "2   Week    272\n",
       "3  Month     89"
      ]
     },
     "execution_count": 27,
     "metadata": {},
     "output_type": "execute_result"
    }
   ],
   "source": [
    "uow_df=pd.DataFrame(zip(keys,values),columns=['Year','Count'])\n",
    "uow_df"
   ]
  },
  {
   "cell_type": "code",
   "execution_count": 58,
   "id": "15168e0c-07b0-48ad-9ecf-8d12beaa6669",
   "metadata": {},
   "outputs": [
    {
     "data": {
      "image/png": "[encoded data removed]",
      "text/plain": [
       "<Figure size 640x480 with 1 Axes>"
      ]
     },
     "metadata": {},
     "output_type": "display_data"
    }
   ],
   "source": [
    "# method-1 using matplotlib\n",
    "plt.Figure(figsize=(8,7))\n",
    "plt.bar('Year',\n",
    "        'Count',\n",
    "       data=uow_df)\n",
    "plt.title('Bar')\n",
    "plt.xlabel('unit_of_wedge')\n",
    "plt.ylabel('Count')\n",
    "plt.savefig('bar_unit_of_wage.jpg')\n",
    "plt.show()"
   ]
  },
  {
   "cell_type": "code",
   "execution_count": 65,
   "id": "39aaeb1e-b32e-4acc-a453-9e45573bddad",
   "metadata": {},
   "outputs": [
    {
     "data": {
      "image/png": "[encoded data removed]",
      "text/plain": [
       "<Figure size 640x480 with 1 Axes>"
      ]
     },
     "metadata": {},
     "output_type": "display_data"
    }
   ],
   "source": [
    "#method-2 using sebourn\n",
    "sns.countplot(data=visa_df,x='unit_of_wage',order=keys)\n",
    "\n",
    "plt.title('Bar graph')\n",
    "plt.show()"
   ]
  },
  {
   "cell_type": "code",
   "execution_count": null,
   "id": "158bff3d-5153-41fb-a26a-41c40482cf8e",
   "metadata": {},
   "outputs": [],
   "source": []
  },
  {
   "cell_type": "code",
   "execution_count": null,
   "id": "bb58e31c-e22d-4be7-bb87-b16bf86528cf",
   "metadata": {},
   "outputs": [],
   "source": []
  },
  {
   "cell_type": "code",
   "execution_count": 70,
   "id": "838e0a2c-f5df-4a03-b534-6aee73510665",
   "metadata": {},
   "outputs": [
    {
     "data": {
      "text/plain": [
       "([<matplotlib.patches.Wedge at 0x2536b8a7cd0>,\n",
       "  <matplotlib.patches.Wedge at 0x2536b924550>,\n",
       "  <matplotlib.patches.Wedge at 0x2536b90f3d0>,\n",
       "  <matplotlib.patches.Wedge at 0x2536b9250d0>],\n",
       " [Text(-2.3804826000515074, 0.7637424898825624, 'Year'),\n",
       "  Text(2.3441420231683714, -0.8689063098033614, 'Hour'),\n",
       "  Text(2.496152988322545, -0.13863714829881912, 'Week'),\n",
       "  Text(2.4998494844213006, -0.027432740267069013, 'Month')],\n",
       " [Text(-1.4282895600309042, 0.45824549392953745, '90.12%'),\n",
       "  Text(1.4064852139010229, -0.5213437858820168, '8.47%'),\n",
       "  Text(1.497691792993527, -0.08318228897929146, '1.07%'),\n",
       "  Text(1.49990969065278, -0.01645964416024141, '0.35%')])"
      ]
     },
     "execution_count": 70,
     "metadata": {},
     "output_type": "execute_result"
    },
    {
     "data": {
      "image/png": "[encoded data removed]",
      "text/plain": [
       "<Figure size 640x480 with 1 Axes>"
      ]
     },
     "metadata": {},
     "output_type": "display_data"
    }
   ],
   "source": [
    "plt.pie(values,\n",
    "        labels=keys,\n",
    "       radius=2,\n",
    "       autopct='%0.2f%%',\n",
    "       explode=[0.3,0.3,0.3,0.3,])"
   ]
  },
  {
   "cell_type": "code",
   "execution_count": 77,
   "id": "4465aef2-1c40-457d-9c21-0fa338c2493d",
   "metadata": {},
   "outputs": [
    {
     "data": {
      "text/plain": [
       "<function matplotlib.pyplot.show(close=None, block=None)>"
      ]
     },
     "execution_count": 77,
     "metadata": {},
     "output_type": "execute_result"
    },
    {
     "data": {
      "image/png": "[encoded data removed]",
      "text/plain": [
       "<Figure size 640x480 with 1 Axes>"
      ]
     },
     "metadata": {},
     "output_type": "display_data"
    }
   ],
   "source": [
    "cdf=visa_df['unit_of_wage'].value_counts()\n",
    "ax=cdf.plot(kind='bar')\n",
    "ax.bar_label(ax.containers[0])\n",
    "plt.show"
   ]
  },
  {
   "cell_type": "code",
   "execution_count": null,
   "id": "1ecda85f-4803-45d4-9f40-470209c405d4",
   "metadata": {},
   "outputs": [],
   "source": []
  }
 ],
 "metadata": {
  "kernelspec": {
   "display_name": "Python 3 (ipykernel)",
   "language": "python",
   "name": "python3"
  },
  "language_info": {
   "codemirror_mode": {
    "name": "ipython",
    "version": 3
   },
   "file_extension": ".py",
   "mimetype": "text/x-python",
   "name": "python",
   "nbconvert_exporter": "python",
   "pygments_lexer": "ipython3",
   "version": "3.11.7"
  }
 },
 "nbformat": 4,
 "nbformat_minor": 5
}
