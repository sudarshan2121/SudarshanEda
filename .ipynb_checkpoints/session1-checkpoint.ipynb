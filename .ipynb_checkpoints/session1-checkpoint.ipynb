{
 "cells": [
  {
   "cell_type": "code",
   "execution_count": 1,
   "id": "4d04e618-5d8a-4b12-92bb-c2432939bb1c",
   "metadata": {},
   "outputs": [
    {
     "data": {
      "text/plain": [
       "30"
      ]
     },
     "execution_count": 1,
     "metadata": {},
     "output_type": "execute_result"
    }
   ],
   "source": [
    "a=10\n",
    "b=20\n",
    "c=a+b\n",
    "c"
   ]
  },
  {
   "cell_type": "code",
   "execution_count": 5,
   "id": "69851f3f-c247-408b-a6a7-5450a736bfca",
   "metadata": {},
   "outputs": [
    {
     "ename": "SyntaxError",
     "evalue": "unmatched ')' (4258657902.py, line 2)",
     "output_type": "error",
     "traceback": [
      "\u001b[1;36m  Cell \u001b[1;32mIn[5], line 2\u001b[1;36m\u001b[0m\n\u001b[1;33m    1) Pandas : Data frame applications\u001b[0m\n\u001b[1;37m     ^\u001b[0m\n\u001b[1;31mSyntaxError\u001b[0m\u001b[1;31m:\u001b[0m unmatched ')'\n"
     ]
    }
   ],
   "source": [
    "================== EDA ==========================\n",
    "1) Pandas : Data frame applications\n",
    "2) Numpy : Numerical python All math applications\n",
    "3) Matplotlib: used for plotting\n",
    "4) Seaborn: used for plot\n",
    "5) plotly: use for plot\n",
    "6) Bokhe: plot\n",
    "=================== Machine learning ==================\n",
    "7) Sickit-learn: sklearn\n",
    "===================== Deep Learning ==================\n",
    "8) Tensorflow : Google\n",
    "9) Keras\n",
    "10) Pytorch\n",
    ": Google\n",
    ": FaceBook\n",
    "====================== NLP ===========================\n",
    "11) NLTK\n",
    ": Natural langague tool kit\n",
    "12) Scipy\n",
    "================ BERT =============================\n",
    "13) Transformers : Hugging face (Google)\n",
    "============ Google models =======================\n",
    "14) Specific google packages\n",
    "============== Azure ML=========================\n",
    "15) Azure packages\n",
    "============= GenAI ==============================\n",
    "16) Gemini : Google\n",
    "17) ChatGPT : OpenAI\n",
    "In [ ]:\n",
    "====================== LangChain==================\n",
    "18) LangChain packages"
   ]
  },
  {
   "cell_type": "markdown",
   "id": "bda304c4-a0dc-4a50-8324-7c3ca959b006",
   "metadata": {},
   "source": [
    "## Create a DataFrame using list"
   ]
  },
  {
   "cell_type": "code",
   "execution_count": null,
   "id": "0ed8bdab-7958-441e-9ce2-0f7867085f35",
   "metadata": {},
   "outputs": [],
   "source": [
    "name=['Akash','Aniket','yash']\n",
    "name"
   ]
  },
  {
   "cell_type": "code",
   "execution_count": null,
   "id": "a5740649-3b98-49d4-a3d3-b8dad7812a93",
   "metadata": {},
   "outputs": [],
   "source": [
    "#import pandas library/package\n",
    "import pandas as pd\n"
   ]
  },
  {
   "cell_type": "code",
   "execution_count": null,
   "id": "70436b54-208d-47db-8775-6be31ca3802c",
   "metadata": {},
   "outputs": [],
   "source": [
    "# create a DataFrame\n",
    "name=['Akash','Aniket','yash']\n",
    "pd.DataFrame(name)"
   ]
  },
  {
   "cell_type": "code",
   "execution_count": null,
   "id": "db07520d-3e94-4819-b272-e5e66b020909",
   "metadata": {},
   "outputs": [],
   "source": [
    "name=['Akash','Aniket','yash']\n",
    "age=[20,25,22]\n",
    "pd.DataFrame(name,age)\n",
    "#what is first positional argument: Data\n",
    "#Second positional argument is: index"
   ]
  },
  {
   "cell_type": "code",
   "execution_count": null,
   "id": "aa98f28c-88d6-4522-9951-36bf24dcbcdf",
   "metadata": {},
   "outputs": [],
   "source": [
    "# to avoide the above problem wu use zip function\n",
    "name=['Akash','Aniket','yash']\n",
    "age=[20,25,22]\n",
    "pd.DataFrame(zip(name,age))"
   ]
  },
  {
   "cell_type": "code",
   "execution_count": null,
   "id": "10437d8c-1003-401f-9ddb-5304c2ae5073",
   "metadata": {},
   "outputs": [],
   "source": [
    "name=['Akash','Aniket','yash']\n",
    "age=[20,25,22]\n",
    "city=['Pune','solapur','Hyd']\n",
    "pd.DataFrame(zip(name,age,city))"
   ]
  },
  {
   "cell_type": "code",
   "execution_count": null,
   "id": "250cee23-8427-4187-917a-36c44f64d3f6",
   "metadata": {},
   "outputs": [],
   "source": [
    "name=['Akash','Aniket','yash']\n",
    "age=[20,25,22]\n",
    "city=['Pune','solapur','Hyd']\n",
    "data=zip(name,age)\n",
    "pd.DataFrame(data,city)"
   ]
  },
  {
   "cell_type": "code",
   "execution_count": null,
   "id": "385cefa5-2204-4e16-9561-0d08e376a5d7",
   "metadata": {},
   "outputs": [],
   "source": [
    "name=['Akash','Aniket','yash']\n",
    "age=[20,25,22]\n",
    "city=['Pune','solapur','Hyd']\n",
    "pd.DataFrame(zip(name,age))"
   ]
  },
  {
   "cell_type": "markdown",
   "id": "c025d0fd-4544-468b-9285-1171ec89ef22",
   "metadata": {},
   "source": [
    "**Provide a columns  name**"
   ]
  },
  {
   "cell_type": "code",
   "execution_count": null,
   "id": "fa6bc762-1b0f-412c-824f-124e88cbf6f3",
   "metadata": {},
   "outputs": [],
   "source": [
    "name=['Akash','Aniket','yash']\n",
    "age=[20,25,22]\n",
    "city=['Pune','solapur','Hyd']\n",
    "pd.DataFrame(zip(name,age),columns=['Name','Age'])"
   ]
  },
  {
   "cell_type": "code",
   "execution_count": null,
   "id": "2fd3133d-d5eb-408b-855e-c4a0dd91bf6f",
   "metadata": {},
   "outputs": [],
   "source": [
    "name=['Akash','Aniket','yash']\n",
    "age=[20,25,22]\n",
    "city=['Pune','solapur','Hyd']\n",
    "pd.DataFrame(zip(name,age),city,columns=['Name','Age'])"
   ]
  },
  {
   "cell_type": "code",
   "execution_count": null,
   "id": "39e294f3-d538-46fc-9809-2c3f5ed2aae4",
   "metadata": {},
   "outputs": [],
   "source": [
    "name=['Akash','Aniket','yash']\n",
    "age=[20,25,22]\n",
    "city=['Pune','solapur','Hyd']\n",
    "s_data=pd.DataFrame(zip(name,age),city,columns=['Name','Age'])"
   ]
  },
  {
   "cell_type": "markdown",
   "id": "bfc8f5a6-b34f-4ac3-8e07-0234dd1d90a8",
   "metadata": {},
   "source": [
    "**type**"
   ]
  },
  {
   "cell_type": "code",
   "execution_count": null,
   "id": "21a2287d-4eb8-49d8-98cb-5e68d054d74d",
   "metadata": {},
   "outputs": [],
   "source": [
    "type(s_data)"
   ]
  },
  {
   "cell_type": "markdown",
   "id": "98061afe-96c4-45c7-86c0-5921a5ef187b",
   "metadata": {},
   "source": [
    "**ADD new column**\n",
    "- If you want to add new column  \n",
    "- First you need to check the number of rows in already existed data  \n",
    "- For example in above the dataframe has 3 rows      \n",
    "- You need to create a new list with 3 rows    \n",
    "- that list equate to the dataframe "
   ]
  },
  {
   "cell_type": "code",
   "execution_count": null,
   "id": "ea1033cc-8860-438d-be06-083b09817b1a",
   "metadata": {},
   "outputs": [],
   "source": [
    "#step1: check no of rows\n",
    "s_data"
   ]
  },
  {
   "cell_type": "code",
   "execution_count": null,
   "id": "12a5e873-e652-4b9c-9f70-c06a34355dc3",
   "metadata": {},
   "outputs": [],
   "source": [
    "#step2: create a list conating same items as in table\n",
    "gen=['M','M','M']\n",
    "gen"
   ]
  },
  {
   "cell_type": "code",
   "execution_count": null,
   "id": "d8ac1e1c-ffeb-4203-9b60-c29a9d922139",
   "metadata": {},
   "outputs": [],
   "source": [
    "#to add a new column\n",
    "#DF_name[Col_name]=list_name\n",
    "s_data['gen']=gen\n",
    "s_data"
   ]
  },
  {
   "cell_type": "code",
   "execution_count": null,
   "id": "6a576c4b-00df-4e11-9109-f714b08ae650",
   "metadata": {},
   "outputs": [],
   "source": [
    "s_data['ge']=gen\n",
    "s_data"
   ]
  },
  {
   "cell_type": "markdown",
   "id": "c0b8c677-fb03-4fe8-a3c8-6f9c700ac973",
   "metadata": {},
   "source": [
    "**Drop the column(.drop)**\n",
    "- In order to drop column we required 3 arguments\n",
    "- Column name\n",
    "  - The coulmn name we need to mention\n",
    "- axis\n",
    "  - axis=0 represents rows\n",
    "  - axis=1 represnts columns\n",
    "- inplace\n",
    "  - we are drop column means we are modifying the data frame\n",
    "  - so this modifications we want to save in same variable or different variable\n",
    "  - If you want to keep in the same varaible the inplace=True\n",
    "  - If you want to keep in the another varaible the inplace=False"
   ]
  },
  {
   "cell_type": "code",
   "execution_count": 6,
   "id": "3c5bd98c-56d8-4b5e-9b83-52ed33909d0e",
   "metadata": {},
   "outputs": [
    {
     "ename": "NameError",
     "evalue": "name 's_data' is not defined",
     "output_type": "error",
     "traceback": [
      "\u001b[1;31m---------------------------------------------------------------------------\u001b[0m",
      "\u001b[1;31mNameError\u001b[0m                                 Traceback (most recent call last)",
      "Cell \u001b[1;32mIn[6], line 1\u001b[0m\n\u001b[1;32m----> 1\u001b[0m \u001b[43ms_data\u001b[49m\u001b[38;5;241m.\u001b[39mdrop(\u001b[38;5;124m'\u001b[39m\u001b[38;5;124mge\u001b[39m\u001b[38;5;124m'\u001b[39m,\n\u001b[0;32m      2\u001b[0m             axis\u001b[38;5;241m=\u001b[39m\u001b[38;5;241m1\u001b[39m,\n\u001b[0;32m      3\u001b[0m             inplace\u001b[38;5;241m=\u001b[39m\u001b[38;5;28;01mTrue\u001b[39;00m)\n\u001b[0;32m      4\u001b[0m s_data\n",
      "\u001b[1;31mNameError\u001b[0m: name 's_data' is not defined"
     ]
    }
   ],
   "source": [
    "s_data.drop('ge',\n",
    "            axis=1,\n",
    "            inplace=True)\n",
    "s_data"
   ]
  },
  {
   "cell_type": "code",
   "execution_count": null,
   "id": "1874a841-9274-4c35-ae9e-9050c04eb35a",
   "metadata": {},
   "outputs": [],
   "source": [
    "s_data1=s_data.drop('gen',\n",
    "            axis=1)\n",
    "s_data"
   ]
  },
  {
   "cell_type": "code",
   "execution_count": null,
   "id": "aa67cc0e-10ad-4659-85e1-950a041efca4",
   "metadata": {},
   "outputs": [],
   "source": []
  },
  {
   "cell_type": "code",
   "execution_count": null,
   "id": "1d736967-9161-4610-a8ad-a134e942bbe1",
   "metadata": {},
   "outputs": [],
   "source": []
  },
  {
   "cell_type": "code",
   "execution_count": null,
   "id": "a92b1404-f595-438a-92a4-67219e848feb",
   "metadata": {},
   "outputs": [],
   "source": []
  },
  {
   "cell_type": "code",
   "execution_count": null,
   "id": "921960fa-906b-4b44-bd56-bc3d7c8456c3",
   "metadata": {},
   "outputs": [],
   "source": []
  },
  {
   "cell_type": "code",
   "execution_count": null,
   "id": "2cdb83ec-0bd1-45dc-af3d-bc06e607b131",
   "metadata": {},
   "outputs": [],
   "source": []
  }
 ],
 "metadata": {
  "kernelspec": {
   "display_name": "Python 3 (ipykernel)",
   "language": "python",
   "name": "python3"
  },
  "language_info": {
   "codemirror_mode": {
    "name": "ipython",
    "version": 3
   },
   "file_extension": ".py",
   "mimetype": "text/x-python",
   "name": "python",
   "nbconvert_exporter": "python",
   "pygments_lexer": "ipython3",
   "version": "3.11.7"
  }
 },
 "nbformat": 4,
 "nbformat_minor": 5
}
